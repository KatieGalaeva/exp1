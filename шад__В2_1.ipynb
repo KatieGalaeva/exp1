{
 "cells": [
  {
   "cell_type": "code",
   "execution_count": 27,
   "metadata": {},
   "outputs": [],
   "source": [
    "n, m = map(int, input().split())\n",
    "num=list(input().split())\n",
    "nums=[int(el) for el in num]"
   ]
  },
  {
   "cell_type": "code",
   "execution_count": 28,
   "metadata": {},
   "outputs": [
    {
     "name": "stdout",
     "output_type": "stream",
     "text": [
      "0.666667\n",
      "3 5\n"
     ]
    }
   ],
   "source": [
    "def quick_sort(nums):\n",
    "    if len(nums)<2:\n",
    "        return nums\n",
    "    else:\n",
    "        piv=nums[0]\n",
    "        less=[i for i in nums[1:] if i<=piv]\n",
    "        great=[i for i in nums[1:] if i>piv]\n",
    "        return quick_sort(less)+[piv]+quick_sort(great)\n",
    "sor_nums=quick_sort(nums)\n",
    "l=0\n",
    "r=m-1\n",
    "q=[(0,[])]\n",
    "\n",
    "while r<=n-1:\n",
    "    count=0\n",
    "    \n",
    "    minimum=sor_nums[l]\n",
    "    maximum=sor_nums[r]\n",
    "    count=(maximum-minimum)/minimum\n",
    "    q.append((count, sor_nums[l:r+1]))\n",
    "    \n",
    "    r+=1\n",
    "    l+=1\n",
    "small=q[1][0]\n",
    "index=1\n",
    "for i in range(2,len(q)):\n",
    "    if q[i][0]<small:\n",
    "        small=q[i][0]\n",
    "        index=i\n",
    "    else:\n",
    "        continue\n",
    "print(format(small, '.6f'))\n",
    "print(' '.join(map(str, q[index][1])))"
   ]
  }
 ],
 "metadata": {
  "kernelspec": {
   "display_name": "mltest",
   "language": "python",
   "name": "python3"
  },
  "language_info": {
   "codemirror_mode": {
    "name": "ipython",
    "version": 3
   },
   "file_extension": ".py",
   "mimetype": "text/x-python",
   "name": "python",
   "nbconvert_exporter": "python",
   "pygments_lexer": "ipython3",
   "version": "3.12.3"
  }
 },
 "nbformat": 4,
 "nbformat_minor": 2
}
