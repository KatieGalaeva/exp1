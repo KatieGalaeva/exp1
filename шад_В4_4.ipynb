{
 "cells": [
  {
   "cell_type": "code",
   "execution_count": 28,
   "metadata": {},
   "outputs": [
    {
     "name": "stdout",
     "output_type": "stream",
     "text": [
      "[[1, 1], [2, 2]]\n"
     ]
    }
   ],
   "source": [
    "n, m = map(int, input().split())\n",
    "image_coords=[]\n",
    "for i in range(n):\n",
    "    row=list(input().replace(' ', ''))   \n",
    "    introw=[int(el) for el in row]      \n",
    "    image_coords.append(introw)\n",
    "\n",
    "\n",
    "print(image_coords)"
   ]
  }
 ],
 "metadata": {
  "kernelspec": {
   "display_name": "mltest",
   "language": "python",
   "name": "python3"
  },
  "language_info": {
   "codemirror_mode": {
    "name": "ipython",
    "version": 3
   },
   "file_extension": ".py",
   "mimetype": "text/x-python",
   "name": "python",
   "nbconvert_exporter": "python",
   "pygments_lexer": "ipython3",
   "version": "3.12.3"
  }
 },
 "nbformat": 4,
 "nbformat_minor": 2
}
