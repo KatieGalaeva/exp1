{
 "cells": [
  {
   "cell_type": "code",
   "execution_count": 10,
   "metadata": {},
   "outputs": [],
   "source": [
    "import numpy as np\n",
    "import matplotlib.pyplot as plt\n",
    "\n",
    "\n",
    "initial_balance = 15000\n",
    "bet = 1000\n",
    "#house_edge = 0.03\n",
    "balance = initial_balance\n",
    "balances = [balance]\n",
    "number_bets=[]\n",
    "\n",
    "def simulate(balance, bet, random_coef):\n",
    "    count=0\n",
    "             \n",
    "    while count<1000000 and balance>0:\n",
    "        coef=random_coef()\n",
    "        \n",
    "        for i in range(len(coef)):\n",
    "            if coef[i]==0:\n",
    "                balance-=bet\n",
    "            if coef[i]==0.5:\n",
    "                balance-=coef[i]*bet\n",
    "            else:\n",
    "                balance+=coef[i]*bet\n",
    "            balances.append(balance)\n",
    "            count+=1\n",
    "            if bet>balance:\n",
    "                #print(\"Oops, you don't have enough money\")\n",
    "                break\n",
    "        if bet>balance:\n",
    "            #print(\"Oops, you don't have enough money\")\n",
    "            break\n",
    "    number_bets.append(count)    \n",
    "    #print(balances)\n",
    "        \n",
    "    return number_bets\n",
    "\n",
    "\n"
   ]
  },
  {
   "cell_type": "code",
   "execution_count": 11,
   "metadata": {},
   "outputs": [],
   "source": [
    "def random_coef():\n",
    "    coef=np.random.choice([15, 7, 5, 4, 3, 2.5, 2, 1.7, 1.5, 1.2, 0.5, 0], 1000000, p=[3.3333333333333335e-05, 0.0004166666666666667, 0.0025, 0.015, 0.018333333333333334, 0.025, 0.035, 0.04333333333333334, 0.04333333333333333, 0.12333333333333332, 0.3333333333333333, 0.3603833333])\n",
    "    #print(coef)\n",
    "    d_coef={}\n",
    "    for i in coef:\n",
    "        d_coef[i]=1+d_coef.get(i,0)\n",
    "    sorted_d_coef=sorted(d_coef.items(), key=lambda kv: kv[0])\n",
    "    #xs=[]\n",
    "    #ys=[]\n",
    "    #for i in range(len(sorted_d_coef)):\n",
    "    #    xs.append(sorted_d_coef[i][1])\n",
    "    #    ys.append(sorted_d_coef[i][0])\n",
    "    #print(sorted_d_coef)\n",
    "    #plt.plot(ys,xs)\n",
    "    #plt.show()\n",
    "    #print(type(coef))\n",
    "    \n",
    "    \n",
    "    return coef\n",
    "\n",
    "#print(random_coef())\n",
    "\n"
   ]
  },
  {
   "cell_type": "code",
   "execution_count": 12,
   "metadata": {},
   "outputs": [
    {
     "name": "stdout",
     "output_type": "stream",
     "text": [
      "200291.6\n"
     ]
    }
   ],
   "source": [
    "#np.random.seed(42)  \n",
    "\n",
    "for epoch in range(10):\n",
    "\n",
    "    #balance_epoch = simulate(balance, bet, random_coef)\n",
    "    number_bets=simulate(balance, bet, random_coef)\n",
    "print(np.mean(number_bets))\n",
    "\n",
    "    \n",
    "\n",
    "    #plt.plot(balance_epoch)\n",
    "    #plt.xlabel('Number of Bets')\n",
    "    #plt.ylabel('Balance')\n",
    "    #plt.title('Balance Over Time with House Edge')\n",
    "    #plt.grid(True)\n",
    "    #plt.show()\n",
    "\n"
   ]
  },
  {
   "cell_type": "code",
   "execution_count": null,
   "metadata": {},
   "outputs": [],
   "source": [
    "#print(balances)"
   ]
  }
 ],
 "metadata": {
  "kernelspec": {
   "display_name": "mltest",
   "language": "python",
   "name": "python3"
  },
  "language_info": {
   "codemirror_mode": {
    "name": "ipython",
    "version": 3
   },
   "file_extension": ".py",
   "mimetype": "text/x-python",
   "name": "python",
   "nbconvert_exporter": "python",
   "pygments_lexer": "ipython3",
   "version": "3.12.3"
  }
 },
 "nbformat": 4,
 "nbformat_minor": 2
}
