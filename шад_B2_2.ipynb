{
 "cells": [
  {
   "cell_type": "code",
   "execution_count": 1,
   "metadata": {},
   "outputs": [],
   "source": [
    "alica = int(input())\n",
    "alica_coords=[]\n",
    "for i in range(alica):\n",
    "    row=list(input().split())\n",
    "    introw=[int(el) for el in row]\n",
    "    alica_coords.append(introw)\n",
    "    \n",
    "bob = int(input())\n",
    "bob_coords=[]\n",
    "for i in range(bob):\n",
    "    row=list(input().split())\n",
    "    introw=[int(el) for el in row]\n",
    "    bob_coords.append(introw)\n",
    "\n",
    "\n"
   ]
  },
  {
   "cell_type": "code",
   "execution_count": 2,
   "metadata": {},
   "outputs": [
    {
     "name": "stdout",
     "output_type": "stream",
     "text": [
      "0\n",
      "2\n",
      "0\n",
      "1\n"
     ]
    }
   ],
   "source": [
    "for i in range(bob):\n",
    "    s=0\n",
    "    for j in range(alica):\n",
    "        right_angle=bob_coords[i][0]*alica_coords[j][0]+bob_coords[i][1]*alica_coords[j][1]\n",
    "        if right_angle==0:\n",
    "            s+=1\n",
    "        else:\n",
    "            continue\n",
    "    print(s)"
   ]
  }
 ],
 "metadata": {
  "kernelspec": {
   "display_name": "mltest",
   "language": "python",
   "name": "python3"
  },
  "language_info": {
   "codemirror_mode": {
    "name": "ipython",
    "version": 3
   },
   "file_extension": ".py",
   "mimetype": "text/x-python",
   "name": "python",
   "nbconvert_exporter": "python",
   "pygments_lexer": "ipython3",
   "version": "3.12.3"
  }
 },
 "nbformat": 4,
 "nbformat_minor": 2
}
