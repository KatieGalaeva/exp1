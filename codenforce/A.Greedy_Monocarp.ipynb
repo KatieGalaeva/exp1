{
 "cells": [
  {
   "cell_type": "code",
   "execution_count": 38,
   "metadata": {},
   "outputs": [
    {
     "name": "stdout",
     "output_type": "stream",
     "text": [
      "0\n"
     ]
    }
   ],
   "source": [
    "\n",
    "t = int(input())\n",
    "results = []\n",
    "\n",
    "for _ in range(t):\n",
    "    n, k = map(int, input().split())\n",
    "    a = list(map(int, input().split()))\n",
    "\n",
    "    a.sort(reverse=True)\n",
    "    \n",
    "\n",
    "    current_sum = 0\n",
    "    coins_needed = 0\n",
    "    count = 0  \n",
    "    if sum(a)==k:\n",
    "        results.append(0)\n",
    "    else:\n",
    "        for i in range(n):\n",
    "        \n",
    "            current_sum += a[i]\n",
    "            if current_sum >= k:\n",
    "                break\n",
    "            count=i\n",
    "        \n",
    "        coins_needed = max(0, k - sum(a[:count+1]))\n",
    "        results.append(coins_needed)\n",
    "\n",
    "for res in results:\n",
    "    print(res)\n"
   ]
  },
  {
   "cell_type": "code",
   "execution_count": 25,
   "metadata": {},
   "outputs": [
    {
     "data": {
      "text/plain": [
       "[4, 3, 2, 1]"
      ]
     },
     "execution_count": 25,
     "metadata": {},
     "output_type": "execute_result"
    }
   ],
   "source": [
    "a"
   ]
  }
 ],
 "metadata": {
  "kernelspec": {
   "display_name": "mltest",
   "language": "python",
   "name": "python3"
  },
  "language_info": {
   "codemirror_mode": {
    "name": "ipython",
    "version": 3
   },
   "file_extension": ".py",
   "mimetype": "text/x-python",
   "name": "python",
   "nbconvert_exporter": "python",
   "pygments_lexer": "ipython3",
   "version": "undefined.undefined.undefined"
  }
 },
 "nbformat": 4,
 "nbformat_minor": 2
}
