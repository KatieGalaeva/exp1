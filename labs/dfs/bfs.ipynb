{
 "cells": [
  {
   "cell_type": "markdown",
   "metadata": {},
   "source": [
    "bfs(6, [(0, 1), (1, 2), (2, 3), (1, 4), (4, 5), (3, 5)])\n",
    "   [0, 1, 2, 4, 3, 5]\n",
    "\n",
    "dfs(6, [(0, 1), (1, 2), (2, 3), (1, 4), (4, 5), (3, 5)])\n",
    "   [0, 1, 2, 3, 5, 4]"
   ]
  },
  {
   "cell_type": "code",
   "execution_count": 39,
   "metadata": {},
   "outputs": [
    {
     "name": "stdout",
     "output_type": "stream",
     "text": [
      "{0: [1], 1: [2, 4], 2: [3], 3: [5], 4: [5], 5: []}\n"
     ]
    },
    {
     "data": {
      "text/plain": [
       "[0, 1, 4, 5, 2, 3]"
      ]
     },
     "execution_count": 39,
     "metadata": {},
     "output_type": "execute_result"
    }
   ],
   "source": [
    "#using n\n",
    "\n",
    "from collections import defaultdict\n",
    "        \n",
    "def dfs(n,graph):\n",
    "    \n",
    "    adjacency_list = {}\n",
    "    visited = set()\n",
    "    stack = []\n",
    "    arr=[]\n",
    "    for i in range(n):\n",
    "        adjacency_list[i] = []\n",
    "    \n",
    "    for edge in graph:\n",
    "        vertex1, vertex2 = edge\n",
    "        adjacency_list[vertex1].append(vertex2)\n",
    "    print(adjacency_list)\n",
    "         \n",
    "    stack.append(next(iter(adjacency_list)))\n",
    "    #arr.append(next(iter(adjacency_list)))\n",
    "    \n",
    "    while stack:\n",
    "        s = stack.pop()\n",
    "        arr.append(s)\n",
    "          \n",
    "        if s not in visited:\n",
    "            visited.add(s)\n",
    "        elif s in visited:\n",
    "            continue\n",
    "        for node in adjacency_list[s]:\n",
    "            if node not in visited:           \n",
    "                    \n",
    "                stack.append(node)\n",
    "                \n",
    "                \n",
    "    return arr\n",
    "    \n",
    "    \n",
    "dfs(7,[(0, 1), (1, 2), (2, 3), (1, 4), (4, 5), (3, 5), (6)])\n",
    "\n"
   ]
  },
  {
   "cell_type": "code",
   "execution_count": 12,
   "metadata": {},
   "outputs": [
    {
     "name": "stdout",
     "output_type": "stream",
     "text": [
      "defaultdict(<class 'list'>, {0: [1], 1: [2, 4], 2: [3], 4: [5], 3: [5], 6: [7]})\n"
     ]
    },
    {
     "data": {
      "text/plain": [
       "[0, 1, 2, 4, 3, 5]"
      ]
     },
     "execution_count": 12,
     "metadata": {},
     "output_type": "execute_result"
    }
   ],
   "source": [
    "\n",
    "from collections import defaultdict\n",
    "        \n",
    "def bfs(n,graph):\n",
    "    \n",
    "\n",
    "    visited = set()\n",
    "    queue = []\n",
    "    arr=[]\n",
    "    adjacency_list = defaultdict(list)\n",
    "    \n",
    "    for edge in graph:\n",
    "        vertex1, vertex2 = edge\n",
    "        adjacency_list[vertex1].append(vertex2)\n",
    "    print(adjacency_list)\n",
    "         \n",
    "    queue.append(next(iter(adjacency_list)))\n",
    "    arr.append(next(iter(adjacency_list)))\n",
    "    \n",
    "    while queue:\n",
    "        s = queue.pop(0)\n",
    "       \n",
    "        for node in adjacency_list[s]:  \n",
    "            if node not in visited:\n",
    "                visited.add(node)\n",
    "                queue.append(node)\n",
    "                arr.append(node)\n",
    "    return arr\n",
    "    \n",
    "    \n",
    "bfs(6,[(0, 1), (1, 2), (2, 3), (1, 4), (4, 5), (3, 5)])\n",
    "\n",
    "\n"
   ]
  },
  {
   "cell_type": "code",
   "execution_count": 8,
   "metadata": {},
   "outputs": [
    {
     "name": "stdout",
     "output_type": "stream",
     "text": [
      "{0: [1], 1: [2, 4], 2: [3], 3: [5], 4: [5], 5: []}\n"
     ]
    },
    {
     "data": {
      "text/plain": [
       "[0, 1, 2, 4, 3, 5]"
      ]
     },
     "execution_count": 8,
     "metadata": {},
     "output_type": "execute_result"
    }
   ],
   "source": [
    "#using n\n",
    "\n",
    "from collections import defaultdict\n",
    "        \n",
    "def bfs(n,graph):\n",
    "    \n",
    "    adjacency_list = {}\n",
    "    visited = set()\n",
    "    queue = []\n",
    "    arr=[]\n",
    "    for i in range(n):\n",
    "        adjacency_list[i] = []\n",
    "    \n",
    "    for edge in graph:\n",
    "        vertex1, vertex2 = edge\n",
    "        adjacency_list[vertex1].append(vertex2)\n",
    "    print(adjacency_list)\n",
    "         \n",
    "    queue.append(next(iter(adjacency_list)))\n",
    "    arr.append(next(iter(adjacency_list)))\n",
    "    \n",
    "    while queue:\n",
    "        s = queue.pop(0)\n",
    "       \n",
    "        for node in adjacency_list[s]:  \n",
    "            if node not in visited:\n",
    "                visited.add(node)\n",
    "                queue.append(node)\n",
    "                arr.append(node)\n",
    "    return arr\n",
    "    \n",
    "    \n",
    "bfs(6,[(0, 1), (1, 2), (2, 3), (1, 4), (4, 5), (3, 5)])\n"
   ]
  }
 ],
 "metadata": {
  "kernelspec": {
   "display_name": "mltest",
   "language": "python",
   "name": "python3"
  },
  "language_info": {
   "codemirror_mode": {
    "name": "ipython",
    "version": 3
   },
   "file_extension": ".py",
   "mimetype": "text/x-python",
   "name": "python",
   "nbconvert_exporter": "python",
   "pygments_lexer": "ipython3",
   "version": "3.12.3"
  }
 },
 "nbformat": 4,
 "nbformat_minor": 2
}
