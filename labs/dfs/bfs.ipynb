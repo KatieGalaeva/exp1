{
 "cells": [
  {
   "cell_type": "markdown",
   "metadata": {},
   "source": [
    "bfs(6, [(0, 1), (1, 2), (2, 3), (1, 4), (4, 5), (3, 5)])\n",
    "   [0, 1, 2, 4, 3, 5]\n",
    "\n",
    "dfs(6, [(0, 1), (1, 2), (2, 3), (1, 4), (4, 5), (3, 5)])\n",
    "   [0, 1, 2, 3, 5, 4]"
   ]
  },
  {
   "cell_type": "code",
   "execution_count": 7,
   "metadata": {},
   "outputs": [],
   "source": [
    "import queue\n",
    "\n",
    "\n",
    "\n",
    "    \n",
    "def order_dfs(graph, start_node, visited = None):\n",
    "    if visited is None:\n",
    "        visited = set()\n",
    "    order=[]\n",
    "\n",
    "    if start_node not in visited:\n",
    "        order.append(start_node)\n",
    "        visited.add(start_node)\n",
    "        for node in graph[start_node]:\n",
    "            if node not in visited:\n",
    "                order.extend(order_dfs(graph, node, visited))\n",
    "    return order\n"
   ]
  },
  {
   "cell_type": "code",
   "execution_count": 17,
   "metadata": {},
   "outputs": [
    {
     "name": "stdout",
     "output_type": "stream",
     "text": [
      "defaultdict(<class 'list'>, {0: [1], 1: [2, 4], 2: [3], 4: [5], 3: [5]})\n"
     ]
    },
    {
     "data": {
      "text/plain": [
       "[0, 1, 2, 4, 3, 5]"
      ]
     },
     "execution_count": 17,
     "metadata": {},
     "output_type": "execute_result"
    }
   ],
   "source": [
    "\n",
    "from collections import defaultdict\n",
    "        \n",
    "def bfs(n,graph):\n",
    "    \n",
    "\n",
    "    visited = set()\n",
    "    queue = []\n",
    "    arr=[]\n",
    "    adjacency_list = defaultdict(list)\n",
    "    \n",
    "    for edge in graph:\n",
    "        vertex1, vertex2 = edge\n",
    "        adjacency_list[vertex1].append(vertex2)\n",
    "    print(adjacency_list)\n",
    "         \n",
    "    queue.append(next(iter(adjacency_list)))\n",
    "    arr.append(next(iter(adjacency_list)))\n",
    "    \n",
    "    while queue:\n",
    "        s = queue.pop(0)\n",
    "       \n",
    "        for node in adjacency_list[s]:  \n",
    "            if node not in visited:\n",
    "                visited.add(node)\n",
    "                queue.append(node)\n",
    "                arr.append(node)\n",
    "    return arr\n",
    "    \n",
    "    \n",
    "bfs(6,[(0, 1), (1, 2), (2, 3), (1, 4), (4, 5), (3, 5)])\n",
    "\n",
    "\n"
   ]
  }
 ],
 "metadata": {
  "kernelspec": {
   "display_name": "mltest",
   "language": "python",
   "name": "python3"
  },
  "language_info": {
   "codemirror_mode": {
    "name": "ipython",
    "version": 3
   },
   "file_extension": ".py",
   "mimetype": "text/x-python",
   "name": "python",
   "nbconvert_exporter": "python",
   "pygments_lexer": "ipython3",
   "version": "3.12.3"
  }
 },
 "nbformat": 4,
 "nbformat_minor": 2
}
