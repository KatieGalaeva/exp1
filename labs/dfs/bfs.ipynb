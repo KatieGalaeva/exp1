{
 "cells": [
  {
   "cell_type": "markdown",
   "metadata": {},
   "source": [
    "bfs(6, [(0, 1), (1, 2), (2, 3), (1, 4), (4, 5), (3, 5)])\n",
    "   [0, 1, 2, 4, 3, 5]\n",
    "\n",
    "dfs(6, [(0, 1), (1, 2), (2, 3), (1, 4), (4, 5), (3, 5)])\n",
    "   [0, 1, 2, 3, 5, 4]"
   ]
  },
  {
   "cell_type": "code",
   "execution_count": 15,
   "metadata": {},
   "outputs": [],
   "source": [
    "import queue\n",
    "import networkx as nx\n",
    "class Tree:\n",
    "    def __init__(self, val = 0, left = None, right = None):\n",
    "        self.val = val\n",
    "        self.lef = left\n",
    "        self.right = right\n",
    "\n",
    "\n",
    "\n",
    "#dfs\n",
    "\n",
    "\n",
    "#bfs\n",
    "def order_bfs(graph, start_node):\n",
    "    visited = set()\n",
    "    q = queue.Queue()\n",
    "    q.put(start_node)\n",
    "    order = []\n",
    "\n",
    "    while not q.empty():\n",
    "        vertex = q.get()\n",
    "        if vertex not in visited:\n",
    "            order.append(vertex)\n",
    "            visited.add(vertex)\n",
    "            for node in graph[vertex]:\n",
    "                if node not in visited:\n",
    "                    q.put(node)\n",
    "    return order\n",
    "\n",
    "    \n",
    "def order_dfs(graph, start_node, visited = None):\n",
    "    if visited is None:\n",
    "        visited = set()\n",
    "    order=[]\n",
    "\n",
    "    if start_node not in visited:\n",
    "        order.append(start_node)\n",
    "        visited.add(start_node)\n",
    "        for node in graph[start_node]:\n",
    "            if node not in visited:\n",
    "                order.extend(order_dfs(graph, node, visited))\n",
    "    return order\n"
   ]
  },
  {
   "cell_type": "code",
   "execution_count": 16,
   "metadata": {},
   "outputs": [
    {
     "name": "stdout",
     "output_type": "stream",
     "text": [
      "[0, 1, 2, 3, 4, 5]\n",
      "[0, 1, 2, 3, 4, 5]\n"
     ]
    }
   ],
   "source": [
    "print(order_dfs([(0, 1), (1, 2), (2, 3), (1, 4), (4, 5), (3, 5)], 0))\n",
    "print(order_bfs([(0, 1), (1, 2), (2, 3), (1, 4), (4, 5), (3, 5)], 0))"
   ]
  }
 ],
 "metadata": {
  "kernelspec": {
   "display_name": "mltest",
   "language": "python",
   "name": "python3"
  },
  "language_info": {
   "codemirror_mode": {
    "name": "ipython",
    "version": 3
   },
   "file_extension": ".py",
   "mimetype": "text/x-python",
   "name": "python",
   "nbconvert_exporter": "python",
   "pygments_lexer": "ipython3",
   "version": "3.12.3"
  }
 },
 "nbformat": 4,
 "nbformat_minor": 2
}
