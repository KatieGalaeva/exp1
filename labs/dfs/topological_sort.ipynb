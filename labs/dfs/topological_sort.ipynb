{
 "cells": [
  {
   "cell_type": "markdown",
   "metadata": {},
   "source": [
    "For a given directed graph, output a topological order if it exists.\n",
    "   \n",
    "   Tie-breaking: ARBITRARY tie-breaking. This will make the code \n",
    "   and time complexity analysis a lot easier. \n",
    "\n",
    "   e.g., for the following example:\n",
    "\n",
    "     0 --> 2 --> 3 --> 5 --> 6\n",
    "        /    \\   |  /    \\\n",
    "       /      \\  v /      \\\n",
    "     1         > 4         > 7\n",
    "\n",
    "   >>> order(8, [(0,2), (1,2), (2,3), (2,4), (3,4), (3,5), (4,5), (5,6), (5,7)])\n",
    "   [0, 1, 2, 3, 4, 5, 6, 7]\n",
    "\n",
    "   Note that order() takes two arguments, n and list_of_edges, \n",
    "   where n specifies that the nodes are named 0..(n-1).\n",
    "\n",
    "   If we flip the (3,4) edge:\n",
    "\n",
    "   >>> order(8, [(0,2), (1,2), (2,3), (2,4), (4,3), (3,5), (4,5), (5,6), (5,7)])\n",
    "   [0, 1, 2, 4, 3, 5, 6, 7]\n",
    "\n",
    "   If there is a cycle, return None\n",
    "\n",
    "   >>> order(4, [(0,1), (1,2), (2,1), (2,3)])\n",
    "   None\n",
    "\n",
    "   Other cases:\n",
    "\n",
    "   >>> order(5, [(0,1), (1,2), (2,3), (3,4)])\n",
    "   [0, 1, 2, 3, 4]\n",
    "\n",
    "   >>> order(5, [])\n",
    "   [0, 1, 2, 3, 4]  # could be any order   \n",
    "\n",
    "   >>> order(3, [(1,2), (2,1)])\n",
    "   None\n",
    "\n",
    "   >>> order(1, [(0,0)]) # self-loop\n",
    "   None\n",
    "\n",
    "   Tie-breaking: arbitrary (any valid topological order is fine).\n",
    "\n",
    "   You need to implement both versions:\n",
    "   - bottom-up (BFS): order(n, edges)\n",
    "   - top-down (DFS from n-1), order2(n, edges)\n",
    "   \n",
    "   filename: topol.py \n",
    "\n",
    "   questions: \n",
    "   (a) did you realize that bottom-up implementations of DP use (implicit) topological orderings?\n",
    "       e.g., what is the topological ordering in your (or my) bottom-up bounded knapsack code?\n",
    "   (b) what about top-down implementations of DP? what order do they use to traverse the graph?\n"
   ]
  },
  {
   "cell_type": "code",
   "execution_count": 8,
   "metadata": {},
   "outputs": [
    {
     "name": "stdout",
     "output_type": "stream",
     "text": [
      "[0, 1, 2, 4, 3, 5, 6, 7]\n"
     ]
    }
   ],
   "source": [
    "def topological_sort(n, graph):\n",
    "    adj = {}\n",
    "    for i in range(n):\n",
    "        adj[i] = []\n",
    "    \n",
    "    for edge in graph:\n",
    "        vertex1, vertex2 = edge\n",
    "        adj[vertex1].append(vertex2)\n",
    "    # Vector to store indegree of each vertex\n",
    "    indegree = [0] * n      #dictionary\n",
    "    for i in range(n):\n",
    "        for vertex in adj[i]:\n",
    "            indegree[vertex] += 1\n",
    "\n",
    "    # Queue to store vertices with indegree 0\n",
    "    q = []\n",
    "    for i in range(n):\n",
    "        if indegree[i] == 0:\n",
    "            q.append(i)\n",
    "    result = []\n",
    "    while q:\n",
    "        node = q.pop(0)\n",
    "        result.append(node)\n",
    "        # Decrease indegree of adjacent vertices as the current node is in topological order\n",
    "        for adjacent in adj[node]:\n",
    "            indegree[adjacent] -= 1\n",
    "            # If indegree becomes 0, push it to the queue\n",
    "            if indegree[adjacent] == 0:\n",
    "                q.append(adjacent)\n",
    "\n",
    "    # Check for cycle\n",
    "    if len(result) != n:\n",
    "        print(\"Graph contains cycle!\")\n",
    "        return []\n",
    "    return result\n",
    "print(topological_sort(8, [(0,2), (1,2), (2,3), (2,4), (4,3), (3,5), (4,5), (5,6), (5,7)]))"
   ]
  }
 ],
 "metadata": {
  "kernelspec": {
   "display_name": "mltest",
   "language": "python",
   "name": "python3"
  },
  "language_info": {
   "codemirror_mode": {
    "name": "ipython",
    "version": 3
   },
   "file_extension": ".py",
   "mimetype": "text/x-python",
   "name": "python",
   "nbconvert_exporter": "python",
   "pygments_lexer": "ipython3",
   "version": "3.12.3"
  }
 },
 "nbformat": 4,
 "nbformat_minor": 2
}
