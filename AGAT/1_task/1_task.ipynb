{
 "cells": [
  {
   "cell_type": "code",
   "execution_count": null,
   "metadata": {},
   "outputs": [],
   "source": [
    "import subprocess\n",
    "\n",
    "def extract_audio_ffmpeg(video_path, output_audio_path):\n",
    "    command = [\n",
    "        \"ffmpeg\",\n",
    "        \"-i\", video_path,\n",
    "        \"-vn\",  \n",
    "        \"-acodec\", \"pcm_s16le\",  \n",
    "        \"-ar\", \"16000\",  \n",
    "        \"-ac\", \"1\", \n",
    "        output_audio_path\n",
    "    ]\n",
    "    subprocess.run(command)\n",
    "\n",
    "extract_audio_ffmpeg(\"download_14.mp4\", \"audio_14.wav\")\n",
    "extract_audio_ffmpeg(\"download_16.mp4\", \"audio_16.wav\")\n",
    "\n"
   ]
  },
  {
   "cell_type": "code",
   "execution_count": 5,
   "metadata": {},
   "outputs": [
    {
     "ename": "ModuleNotFoundError",
     "evalue": "No module named 'noisereduce'",
     "output_type": "error",
     "traceback": [
      "\u001b[1;31m---------------------------------------------------------------------------\u001b[0m",
      "\u001b[1;31mModuleNotFoundError\u001b[0m                       Traceback (most recent call last)",
      "Cell \u001b[1;32mIn[5], line 1\u001b[0m\n\u001b[1;32m----> 1\u001b[0m \u001b[38;5;28;01mimport\u001b[39;00m \u001b[38;5;21;01mnoisereduce\u001b[39;00m \u001b[38;5;28;01mas\u001b[39;00m \u001b[38;5;21;01mnr\u001b[39;00m\n\u001b[0;32m      2\u001b[0m \u001b[38;5;28;01mimport\u001b[39;00m \u001b[38;5;21;01mscipy\u001b[39;00m\u001b[38;5;21;01m.\u001b[39;00m\u001b[38;5;21;01mio\u001b[39;00m\u001b[38;5;21;01m.\u001b[39;00m\u001b[38;5;21;01mwavfile\u001b[39;00m \u001b[38;5;28;01mas\u001b[39;00m \u001b[38;5;21;01mwav\u001b[39;00m\n\u001b[0;32m      4\u001b[0m \u001b[38;5;28;01mdef\u001b[39;00m \u001b[38;5;21mdenoise_audio\u001b[39m(input_audio_path, output_audio_path):\n",
      "\u001b[1;31mModuleNotFoundError\u001b[0m: No module named 'noisereduce'"
     ]
    }
   ],
   "source": [
    "import noisereduce as nr\n",
    "import scipy.io.wavfile as wav\n",
    "\n",
    "def denoise_audio(input_audio_path, output_audio_path):\n",
    "    rate, data = wav.read(input_audio_path)\n",
    "    reduced_noise = nr.reduce_noise(y=data, sr=rate)\n",
    "    wav.write(output_audio_path, rate, reduced_noise)\n",
    "\n",
    "denoise_audio(\"audio_14.wav\", \"denoised_14.wav\")\n",
    "denoise_audio(\"audio_16.wav\", \"denoised_16.wav\")"
   ]
  }
 ],
 "metadata": {
  "kernelspec": {
   "display_name": "mltest",
   "language": "python",
   "name": "python3"
  },
  "language_info": {
   "codemirror_mode": {
    "name": "ipython",
    "version": 3
   },
   "file_extension": ".py",
   "mimetype": "text/x-python",
   "name": "python",
   "nbconvert_exporter": "python",
   "pygments_lexer": "ipython3",
   "version": "3.12.5"
  }
 },
 "nbformat": 4,
 "nbformat_minor": 2
}
