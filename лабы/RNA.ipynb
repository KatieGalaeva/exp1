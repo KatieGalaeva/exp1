{
 "cells": [
  {
   "cell_type": "code",
   "execution_count": 45,
   "metadata": {},
   "outputs": [
    {
     "name": "stdout",
     "output_type": "stream",
     "text": [
      "[1, 1, 0, 0, 0]\n",
      "[0, 0, 0, 1, 1]\n",
      "[1, 0, 0, 1, 0]\n",
      "[0, 1, 0, 0, 1]\n"
     ]
    },
    {
     "data": {
      "text/plain": [
       "([[0, 1, 0, 1, 0], [0, 0, 0, 1], [0, 0, 0], [0, 1], [0]],\n",
       " [[0, 0, 0, 0, 0], [0, 0, 0, 1], [0, 0, 0], [0, 3], [0]])"
      ]
     },
     "execution_count": 45,
     "metadata": {},
     "output_type": "execute_result"
    }
   ],
   "source": [
    "def RNA(sequence):\n",
    "    \n",
    "    dp=[[0]*(len(sequence)-i) for i in range(len(sequence))]\n",
    "    dp_i=[[0]*(len(sequence)-i) for i in range(len(sequence))]\n",
    "\n",
    "    for i in range(len(dp)):\n",
    "        a=i\n",
    "        for j in range(len(dp)-i):\n",
    "            s=j\n",
    "            e=j+a\n",
    "            k=[0]*len(sequence)\n",
    "            if sequence[s]=='A' and sequence[e]=='U' or sequence[s]=='U' and sequence[e]=='A':\n",
    "                dp[j][i]=max(dp[j][i-1], 1 + dp[j+1][i-2])\n",
    "                dp_i[j][i]=j\n",
    "                k[s]=1\n",
    "                k[e]=1\n",
    "                print(k)\n",
    "            if sequence[s]=='G' and sequence[e]=='C' or sequence[s]=='C' and sequence[e]=='G':\n",
    "                dp[j][i]=max(dp[j][i-1], 1 + dp[j+1][i-2])\n",
    "                dp_i[j][i]=j\n",
    "                k[s]=1\n",
    "                k[e]=1\n",
    "                print(k)\n",
    "            if sequence[s]=='G' and sequence[e]=='U' or sequence[s]=='U' and sequence[e]=='G':\n",
    "                dp[j][i]=max(dp[j][i-1], 1 + dp[j+1][i-2])\n",
    "                dp_i[j][i]=j\n",
    "                k[s]=1\n",
    "                k[e]=1\n",
    "                print(k)\n",
    "            #elif i>0:\n",
    "            #    dp[j][i]=max(dp[j][i-1], 1 + dp[j+1][i-2])\n",
    "    for i in range(len(dp)):\n",
    "        a=i\n",
    "        for j in range(len(dp)-i):\n",
    "            s=j\n",
    "            e=j+a\n",
    "            if dp[j][i]>=2:\n",
    "                for l in range(dp[j][i]):\n",
    "                    k[s]=1\n",
    "                    k[e]=1\n",
    "                    s+=1\n",
    "                    e-=1\n",
    "                print(k)\n",
    "    return dp, dp_i      \n",
    "    \n",
    "RNA('GCACG')"
   ]
  }
 ],
 "metadata": {
  "kernelspec": {
   "display_name": "mltest",
   "language": "python",
   "name": "python3"
  },
  "language_info": {
   "codemirror_mode": {
    "name": "ipython",
    "version": 3
   },
   "file_extension": ".py",
   "mimetype": "text/x-python",
   "name": "python",
   "nbconvert_exporter": "python",
   "pygments_lexer": "ipython3",
   "version": "3.12.3"
  }
 },
 "nbformat": 4,
 "nbformat_minor": 2
}
