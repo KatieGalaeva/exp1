{
 "cells": [
  {
   "cell_type": "code",
   "execution_count": 1,
   "metadata": {},
   "outputs": [
    {
     "data": {
      "text/plain": [
       "tensor([[0., 0., 0., 0.],\n",
       "        [0., 0., 0., 0.]])"
      ]
     },
     "execution_count": 1,
     "metadata": {},
     "output_type": "execute_result"
    }
   ],
   "source": [
    "import torch\n",
    "t1 = torch.zeros(2, 4)\n",
    "t1"
   ]
  },
  {
   "cell_type": "code",
   "execution_count": 88,
   "metadata": {},
   "outputs": [
    {
     "data": {
      "text/plain": [
       "tensor([[1, 2],\n",
       "        [3, 4]])"
      ]
     },
     "execution_count": 88,
     "metadata": {},
     "output_type": "execute_result"
    }
   ],
   "source": [
    "t2 = torch.tensor([[1, 2], [3, 4]])\n",
    "t2"
   ]
  },
  {
   "cell_type": "code",
   "execution_count": 21,
   "metadata": {},
   "outputs": [
    {
     "data": {
      "text/plain": [
       "tensor([[1., 1., 1., 1., 1., 1.],\n",
       "        [1., 1., 1., 1., 1., 1.]])"
      ]
     },
     "execution_count": 21,
     "metadata": {},
     "output_type": "execute_result"
    }
   ],
   "source": [
    "t3=torch.ones(2,6)\n",
    "t3"
   ]
  },
  {
   "cell_type": "code",
   "execution_count": 54,
   "metadata": {},
   "outputs": [
    {
     "data": {
      "text/plain": [
       "tensor([[-0.9715, -2.0231, -1.8942],\n",
       "        [-1.4120, -0.0294, -0.8347]])"
      ]
     },
     "execution_count": 54,
     "metadata": {},
     "output_type": "execute_result"
    }
   ],
   "source": [
    "t4 = torch.randn(2, 3)\n",
    "t4"
   ]
  },
  {
   "cell_type": "code",
   "execution_count": 83,
   "metadata": {},
   "outputs": [
    {
     "data": {
      "text/plain": [
       "tensor([ 0,  2,  4,  6,  8, 10, 12, 14, 16, 18])"
      ]
     },
     "execution_count": 83,
     "metadata": {},
     "output_type": "execute_result"
    }
   ],
   "source": [
    "t5 = torch.arange(0, 20, 2)\n",
    "t5"
   ]
  },
  {
   "cell_type": "code",
   "execution_count": 87,
   "metadata": {},
   "outputs": [
    {
     "data": {
      "text/plain": [
       "tensor([ 0,  2,  4,  6,  8, 10, 12, 14, 16, 18])"
      ]
     },
     "execution_count": 87,
     "metadata": {},
     "output_type": "execute_result"
    }
   ],
   "source": [
    "t5"
   ]
  },
  {
   "cell_type": "code",
   "execution_count": 86,
   "metadata": {},
   "outputs": [
    {
     "name": "stdout",
     "output_type": "stream",
     "text": [
      "tensor([ 0, 10])\n"
     ]
    },
    {
     "data": {
      "text/plain": [
       "tensor([[ 0, 10]])"
      ]
     },
     "execution_count": 86,
     "metadata": {},
     "output_type": "execute_result"
    }
   ],
   "source": [
    "t6=t5[::5]\n",
    "print(t6)\n",
    "t6.reshape(1,2)"
   ]
  },
  {
   "cell_type": "code",
   "execution_count": 89,
   "metadata": {},
   "outputs": [],
   "source": [
    "a = torch.tensor([[1, 2], [3, 4]])\n",
    "b = torch.tensor([[5, 6], [7, 8]])"
   ]
  },
  {
   "cell_type": "code",
   "execution_count": 90,
   "metadata": {},
   "outputs": [
    {
     "data": {
      "text/plain": [
       "tensor([[19, 22],\n",
       "        [43, 50]])"
      ]
     },
     "execution_count": 90,
     "metadata": {},
     "output_type": "execute_result"
    }
   ],
   "source": [
    "e = torch.matmul(a, b)\n",
    "e"
   ]
  },
  {
   "cell_type": "code",
   "execution_count": 97,
   "metadata": {},
   "outputs": [
    {
     "data": {
      "text/plain": [
       "tensor([[[ 0.5970,  1.0391, -1.2655,  2.7095],\n",
       "         [ 0.2186, -1.0732, -0.3047, -1.4860],\n",
       "         [ 1.0611, -0.1703, -0.5001,  1.7283]],\n",
       "\n",
       "        [[-1.1145,  0.9305, -0.5409, -1.5022],\n",
       "         [ 1.0807,  0.2475, -0.5903,  0.0677],\n",
       "         [ 0.9032,  0.6509, -1.1615, -0.1847]],\n",
       "\n",
       "        [[ 0.9585,  0.9891, -0.0229,  0.7727],\n",
       "         [ 0.1765,  0.9412, -0.6655, -0.7620],\n",
       "         [-0.2278,  0.2078, -1.8165,  0.0659]],\n",
       "\n",
       "        [[-0.0754,  1.1038, -0.6374, -1.3876],\n",
       "         [ 0.2398,  0.0245, -2.0449, -0.4228],\n",
       "         [-0.5098, -1.0832, -1.7381,  0.4565]],\n",
       "\n",
       "        [[ 0.1373,  0.0728, -0.5635, -0.5003],\n",
       "         [ 0.6463,  0.3351, -0.9926,  0.3342],\n",
       "         [-1.1079, -1.2175, -0.3686,  0.1664]],\n",
       "\n",
       "        [[-0.4963,  1.5160,  0.7579, -0.0753],\n",
       "         [-2.3415,  0.0544, -1.5581, -0.9984],\n",
       "         [-0.5209,  1.8427,  1.7606,  1.1177]],\n",
       "\n",
       "        [[ 0.1515,  0.6056, -0.4098, -0.7394],\n",
       "         [ 1.5952,  0.0905, -1.0733, -0.7483],\n",
       "         [ 0.6534, -0.3864,  1.9645,  0.3405]],\n",
       "\n",
       "        [[ 1.0525,  0.0929, -0.3648,  0.1872],\n",
       "         [-0.3411, -1.4606, -2.4695,  0.1596],\n",
       "         [ 2.7634,  0.5172, -0.1947, -0.1048]],\n",
       "\n",
       "        [[ 0.7200, -1.1209,  0.8416, -0.3579],\n",
       "         [-0.2345, -1.1624, -1.4271,  1.3105],\n",
       "         [ 0.2154,  0.1740,  0.8766, -0.6168]],\n",
       "\n",
       "        [[ 0.7594,  1.4895, -1.2927,  0.9251],\n",
       "         [ 1.7031,  0.9691,  0.3181,  0.5022],\n",
       "         [ 1.6547,  0.6605, -1.0017, -0.4156]]])"
      ]
     },
     "execution_count": 97,
     "metadata": {},
     "output_type": "execute_result"
    }
   ],
   "source": [
    "tensor1 = torch.randn(10, 3, 4)\n",
    "tensor1\n"
   ]
  },
  {
   "cell_type": "code",
   "execution_count": null,
   "metadata": {},
   "outputs": [
    {
     "data": {
      "text/plain": [
       "torch.Size([4])"
      ]
     },
     "execution_count": 102,
     "metadata": {},
     "output_type": "execute_result"
    },
    {
     "ename": "",
     "evalue": "",
     "output_type": "error",
     "traceback": [
      "\u001b[1;31mThe Kernel crashed while executing code in the current cell or a previous cell. \n",
      "\u001b[1;31mPlease review the code in the cell(s) to identify a possible cause of the failure. \n",
      "\u001b[1;31mClick <a href='https://aka.ms/vscodeJupyterKernelCrash'>here</a> for more info. \n",
      "\u001b[1;31mView Jupyter <a href='command:jupyter.viewOutput'>log</a> for further details."
     ]
    }
   ],
   "source": [
    "tensor2 = torch.randn(4)\n",
    "tensor2.shape"
   ]
  },
  {
   "cell_type": "code",
   "execution_count": 60,
   "metadata": {},
   "outputs": [
    {
     "data": {
      "text/plain": [
       "tensor([-0.9715, -2.0231, -1.8942, -1.4120, -0.0294, -0.8347])"
      ]
     },
     "execution_count": 60,
     "metadata": {},
     "output_type": "execute_result"
    }
   ],
   "source": [
    "torch.reshape(t4, (-1,))"
   ]
  },
  {
   "cell_type": "code",
   "execution_count": 67,
   "metadata": {},
   "outputs": [
    {
     "data": {
      "text/plain": [
       "tensor([[-0.9715, -2.0231],\n",
       "        [-1.8942, -1.4120],\n",
       "        [-0.0294, -0.8347]])"
      ]
     },
     "execution_count": 67,
     "metadata": {},
     "output_type": "execute_result"
    }
   ],
   "source": [
    "t4.view(-1,2)"
   ]
  },
  {
   "cell_type": "code",
   "execution_count": null,
   "metadata": {},
   "outputs": [],
   "source": []
  },
  {
   "cell_type": "code",
   "execution_count": 33,
   "metadata": {},
   "outputs": [
    {
     "data": {
      "text/plain": [
       "torch.Size([3])"
      ]
     },
     "execution_count": 33,
     "metadata": {},
     "output_type": "execute_result"
    }
   ],
   "source": [
    "device = 'cuda' if torch.cuda.is_available() else 'cpu'\n",
    "tensor = torch.tensor([1, 2, 3]).to(device)\n",
    "tensor.size()"
   ]
  },
  {
   "cell_type": "code",
   "execution_count": 2,
   "metadata": {},
   "outputs": [
    {
     "data": {
      "text/plain": [
       "'100mph'"
      ]
     },
     "execution_count": 2,
     "metadata": {},
     "output_type": "execute_result"
    }
   ],
   "source": [
    "class Car :\n",
    "    def __init__(self, color, speed):\n",
    "        self.color = color\n",
    "        self.speed = speed\n",
    "car = Car('red','100mph')\n",
    "car.speed"
   ]
  },
  {
   "cell_type": "code",
   "execution_count": 3,
   "metadata": {},
   "outputs": [
    {
     "name": "stdout",
     "output_type": "stream",
     "text": [
      "vroom\n"
     ]
    }
   ],
   "source": [
    "class Car():\n",
    "    def drive(self):\n",
    "        print('vroom')\n",
    "class Audi(Car):\n",
    "    pass\n",
    "audi = Audi()\n",
    "audi.drive()"
   ]
  },
  {
   "cell_type": "code",
   "execution_count": 3,
   "metadata": {},
   "outputs": [
    {
     "data": {
      "text/plain": [
       "tensor([[2, 3, 4],\n",
       "        [3, 4, 5],\n",
       "        [4, 5, 6]])"
      ]
     },
     "execution_count": 3,
     "metadata": {},
     "output_type": "execute_result"
    }
   ],
   "source": [
    "import torch\n",
    "a = torch.tensor([1, 2, 3])         # (3,)\n",
    "b = torch.tensor([[1], [2], [3]])   # (3, 1)\n",
    "c = a + b   \n",
    "c"
   ]
  },
  {
   "cell_type": "code",
   "execution_count": 7,
   "metadata": {},
   "outputs": [
    {
     "name": "stdout",
     "output_type": "stream",
     "text": [
      "tensor([[ 5, 12],\n",
      "        [21, 32]])\n",
      "tensor([[19, 22],\n",
      "        [43, 50]])\n"
     ]
    }
   ],
   "source": [
    "# Создание тензора размером (3, 4) со случайными числами\n",
    "t = torch.randn(3, 4)\n",
    "\n",
    "# Поэлементное и матричное умножение\n",
    "a = torch.tensor([[1, 2], [3, 4]])\n",
    "b = torch.tensor([[5, 6], [7, 8]])\n",
    "elementwise = a * b\n",
    "matrix_mult = torch.matmul(a, b)\n",
    "print(elementwise)\n",
    "print(matrix_mult)"
   ]
  },
  {
   "cell_type": "code",
   "execution_count": 11,
   "metadata": {},
   "outputs": [
    {
     "data": {
      "text/plain": [
       "tensor([[1.9313],\n",
       "        [3.9852],\n",
       "        [8.0932]], grad_fn=<AddmmBackward0>)"
      ]
     },
     "execution_count": 11,
     "metadata": {},
     "output_type": "execute_result"
    }
   ],
   "source": [
    "import torch.nn as nn\n",
    "x = torch.tensor([[1.0], [2.0], [3.0]])\n",
    "y = torch.tensor([[2.0], [4.0], [6.0]])\n",
    "\n",
    "# Модель\n",
    "model = nn.Linear(1, 1)\n",
    "optimizer = torch.optim.SGD(model.parameters(), lr=0.01)\n",
    "loss_fn = nn.MSELoss()\n",
    "\n",
    "# Обучение\n",
    "for epoch in range(100):\n",
    "    predictions = model(x)\n",
    "    loss = loss_fn(predictions, y)\n",
    "    optimizer.zero_grad()\n",
    "    loss.backward()\n",
    "    optimizer.step()\n",
    "x = torch.tensor([[1.0], [2.0], [4.0]])\n",
    "predict = model(x)\n",
    "predict"
   ]
  },
  {
   "cell_type": "code",
   "execution_count": 19,
   "metadata": {},
   "outputs": [
    {
     "name": "stdout",
     "output_type": "stream",
     "text": [
      "torch.Size([2, 2])\n",
      "tensor([1, 2, 3, 4])\n",
      "torch.Size([1, 2, 2])\n",
      "tensor([[1, 3],\n",
      "        [2, 4]])\n"
     ]
    }
   ],
   "source": [
    "t = torch.tensor([[1, 2], [3, 4]])\n",
    "print(t.size())\n",
    "reshaped = t.view(4)  # Изменение размера\n",
    "print(reshaped)\n",
    "squeezed = t.unsqueeze(0)  # Добавление размерности\n",
    "print(squeezed.size())\n",
    "permuted = t.T\n",
    "print(permuted)"
   ]
  },
  {
   "cell_type": "code",
   "execution_count": 3,
   "metadata": {},
   "outputs": [
    {
     "name": "stdout",
     "output_type": "stream",
     "text": [
      "tensor(11)\n",
      "tensor([3, 8])\n",
      "tensor([[1, 2]]) tensor([[3],\n",
      "        [4]])\n",
      "tensor([[11]])\n"
     ]
    }
   ],
   "source": [
    "import torch\n",
    "a = torch.tensor([1, 2])\n",
    "b = torch.tensor([3, 4])\n",
    "sum = a + b\n",
    "dot_product = torch.dot(a, b)\n",
    "print(dot_product)\n",
    "print(a*b)\n",
    "matrix_product = torch.matmul(a.unsqueeze(0), b.unsqueeze(1))\n",
    "print(a.unsqueeze(0), b.unsqueeze(1))\n",
    "print(matrix_product)"
   ]
  },
  {
   "cell_type": "code",
   "execution_count": 27,
   "metadata": {},
   "outputs": [
    {
     "data": {
      "text/plain": [
       "array([[0.88167517],\n",
       "       [0.84106045],\n",
       "       [0.30264685],\n",
       "       [0.38269427],\n",
       "       [0.80218794],\n",
       "       [0.2628552 ],\n",
       "       [0.14056653],\n",
       "       [0.33957726],\n",
       "       [0.6216242 ],\n",
       "       [0.34706247],\n",
       "       [0.78013535],\n",
       "       [0.41216062],\n",
       "       [0.63535129],\n",
       "       [0.2457001 ],\n",
       "       [0.11567756],\n",
       "       [0.64219674],\n",
       "       [0.72122381],\n",
       "       [0.5481129 ],\n",
       "       [0.73485736],\n",
       "       [0.47803096],\n",
       "       [0.89370837],\n",
       "       [0.1796335 ],\n",
       "       [0.57764983],\n",
       "       [0.93470297],\n",
       "       [0.14111943],\n",
       "       [0.15394754],\n",
       "       [0.16716709],\n",
       "       [0.13301006],\n",
       "       [0.02831033],\n",
       "       [0.5741126 ],\n",
       "       [0.95770027],\n",
       "       [0.18857408],\n",
       "       [0.60338903],\n",
       "       [0.21581921],\n",
       "       [0.42649772],\n",
       "       [0.35721014],\n",
       "       [0.74116207],\n",
       "       [0.87755403],\n",
       "       [0.9221051 ],\n",
       "       [0.51813807],\n",
       "       [0.58272626],\n",
       "       [0.86345427],\n",
       "       [0.73501504],\n",
       "       [0.24671819],\n",
       "       [0.97368781],\n",
       "       [0.62049207],\n",
       "       [0.88515621],\n",
       "       [0.91109469],\n",
       "       [0.05526728],\n",
       "       [0.98645534],\n",
       "       [0.47382909],\n",
       "       [0.9074146 ],\n",
       "       [0.70059012],\n",
       "       [0.49254284],\n",
       "       [0.0671232 ],\n",
       "       [0.99506797],\n",
       "       [0.10079525],\n",
       "       [0.34356339],\n",
       "       [0.66293862],\n",
       "       [0.16734943],\n",
       "       [0.42181284],\n",
       "       [0.28033464],\n",
       "       [0.72607235],\n",
       "       [0.45384997],\n",
       "       [0.93084319],\n",
       "       [0.70707616],\n",
       "       [0.83410312],\n",
       "       [0.32899422],\n",
       "       [0.3350842 ],\n",
       "       [0.29880721],\n",
       "       [0.83722385],\n",
       "       [0.51640303],\n",
       "       [0.4494706 ],\n",
       "       [0.71425508],\n",
       "       [0.36070384],\n",
       "       [0.3149442 ],\n",
       "       [0.02545731],\n",
       "       [0.21891237],\n",
       "       [0.44050231],\n",
       "       [0.32514232],\n",
       "       [0.04878817],\n",
       "       [0.49941771],\n",
       "       [0.57095794],\n",
       "       [0.94991124],\n",
       "       [0.87854201],\n",
       "       [0.1636609 ],\n",
       "       [0.01821551],\n",
       "       [0.33999671],\n",
       "       [0.4688941 ],\n",
       "       [0.50808973],\n",
       "       [0.97007505],\n",
       "       [0.28109725],\n",
       "       [0.69124623],\n",
       "       [0.31182049],\n",
       "       [0.69194004],\n",
       "       [0.23515901],\n",
       "       [0.61744702],\n",
       "       [0.42088184],\n",
       "       [0.64619711],\n",
       "       [0.22991185]])"
      ]
     },
     "execution_count": 27,
     "metadata": {},
     "output_type": "execute_result"
    }
   ],
   "source": [
    "import numpy as np\n",
    "X = np.random.rand(100, 1)\n",
    "y = 3 * X.squeeze()\n"
   ]
  }
 ],
 "metadata": {
  "kernelspec": {
   "display_name": "mltest",
   "language": "python",
   "name": "python3"
  },
  "language_info": {
   "codemirror_mode": {
    "name": "ipython",
    "version": 3
   },
   "file_extension": ".py",
   "mimetype": "text/x-python",
   "name": "python",
   "nbconvert_exporter": "python",
   "pygments_lexer": "ipython3",
   "version": "3.12.5"
  }
 },
 "nbformat": 4,
 "nbformat_minor": 2
}
