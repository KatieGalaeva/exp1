{
 "cells": [
  {
   "cell_type": "code",
   "execution_count": null,
   "metadata": {},
   "outputs": [
    {
     "name": "stdout",
     "output_type": "stream",
     "text": [
      "3\n"
     ]
    }
   ],
   "source": [
    "building = list(map(int, input().split()))\n",
    "houses = [ i for i,x in enumerate(building) if x==1]\n",
    "shops = [ i for i,x in enumerate(building) if x==2]\n",
    "\n",
    "max_distance=0\n",
    "for house in houses:\n",
    "    min_distance = min(abs(house - shop) for shop in shops)\n",
    "    max_distance = max(max_distance, min_distance)\n",
    "print(max_distance)"
   ]
  }
 ],
 "metadata": {
  "kernelspec": {
   "display_name": "mltest",
   "language": "python",
   "name": "python3"
  },
  "language_info": {
   "codemirror_mode": {
    "name": "ipython",
    "version": 3
   },
   "file_extension": ".py",
   "mimetype": "text/x-python",
   "name": "python",
   "nbconvert_exporter": "python",
   "pygments_lexer": "ipython3",
   "version": "3.12.5"
  }
 },
 "nbformat": 4,
 "nbformat_minor": 2
}
