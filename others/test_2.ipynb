{
 "cells": [
  {
   "cell_type": "code",
   "execution_count": 2,
   "metadata": {},
   "outputs": [
    {
     "name": "stdout",
     "output_type": "stream",
     "text": [
      "5\n"
     ]
    }
   ],
   "source": [
    "n = int(input())\n",
    "dict={}\n",
    "for i in range(n):\n",
    "    h, w = map(int, input().split())\n",
    "    dict[h] = max(dict.get(h, w), w)\n",
    "print(sum(dict.values()))"
   ]
  },
  {
   "cell_type": "code",
   "execution_count": null,
   "metadata": {},
   "outputs": [],
   "source": [
    "def find_max_height(bricks):\n",
    "    widts = {}\n",
    "    result = 0\n",
    "    for wight, height in bricks:\n",
    "        if wight in widts and widts[wight]< height:\n",
    "            result -=widts[wight]\n",
    "            result +=height\n",
    "        elif wight not in widts:\n",
    "            result += height\n",
    "            widts[wight]\n",
    "    return result"
   ]
  }
 ],
 "metadata": {
  "kernelspec": {
   "display_name": "mltest",
   "language": "python",
   "name": "python3"
  },
  "language_info": {
   "codemirror_mode": {
    "name": "ipython",
    "version": 3
   },
   "file_extension": ".py",
   "mimetype": "text/x-python",
   "name": "python",
   "nbconvert_exporter": "python",
   "pygments_lexer": "ipython3",
   "version": "3.12.5"
  }
 },
 "nbformat": 4,
 "nbformat_minor": 2
}
