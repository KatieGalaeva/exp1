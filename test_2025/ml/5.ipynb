{
 "cells": [
  {
   "cell_type": "code",
   "execution_count": 64,
   "metadata": {},
   "outputs": [
    {
     "name": "stdout",
     "output_type": "stream",
     "text": [
      "35\n"
     ]
    }
   ],
   "source": [
    "def sum_min_groups(A, s):\n",
    "\n",
    "    n = len(A)\n",
    "    nextPos = [0]*n\n",
    "    curr_sum = 0\n",
    "    j = 0\n",
    "    for i in range(n):\n",
    "\n",
    "        while j < n and curr_sum + A[j] <= s:\n",
    "            curr_sum += A[j]\n",
    "            j += 1\n",
    "        nextPos[i] = j \n",
    "        curr_sum -= A[i]\n",
    "\n",
    "    H = [0]*(n+1)\n",
    "    for i in range(n-1, -1, -1):\n",
    "        nxt = nextPos[i]\n",
    "        H[i] = (n - i) + H[nxt]\n",
    "\n",
    "    return sum(H[:n])\n",
    "\n",
    "if __name__ == \"__main__\":\n",
    "\n",
    "    n, s = map(int, input().split())\n",
    "    a = list(map(int, input().split()))\n",
    "    print(sum_min_groups(a, s))"
   ]
  }
 ],
 "metadata": {
  "kernelspec": {
   "display_name": "mltest",
   "language": "python",
   "name": "python3"
  },
  "language_info": {
   "codemirror_mode": {
    "name": "ipython",
    "version": 3
   },
   "file_extension": ".py",
   "mimetype": "text/x-python",
   "name": "python",
   "nbconvert_exporter": "python",
   "pygments_lexer": "ipython3",
   "version": "3.12.5"
  }
 },
 "nbformat": 4,
 "nbformat_minor": 2
}
