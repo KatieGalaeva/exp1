{
 "cells": [
  {
   "cell_type": "code",
   "execution_count": 20,
   "metadata": {},
   "outputs": [
    {
     "name": "stdout",
     "output_type": "stream",
     "text": [
      "1099511629312\n"
     ]
    }
   ],
   "source": [
    "#[131] -> 131 (128 + 2 + 1)\n",
    "#[130] -> 112 (64 + 32 + 16)\n",
    "#[100] -> 100 (64 + 32 + 4)\n",
    "#[81] -> 81 (64 + 32 + 1)\n",
    "#[80] -> 76 (64 + 8 + 4)\n",
    "#[82] -> 82 (64 + 32 + 2)\n",
    "\n",
    "def set_bit(value, bit) -> int:\n",
    "    return value | (1 << bit)\n",
    "\n",
    "def clear_bit(value, bit) -> int:\n",
    "    return value & ~(1 << bit)\n",
    "\n",
    "def get_bit(value, bit):\n",
    "    return (value & (1 << bit)) != 0\n",
    "\n",
    "def find_nearest_sum_of_powers_of_two(a: int):\n",
    "    ones = a.bit_count()\n",
    "    if ones > 3:\n",
    "        r_it = 0\n",
    "        while ones > 3:\n",
    "            if get_bit(a, r_it):\n",
    "                a = clear_bit(a, r_it)\n",
    "                ones -= 1\n",
    "            r_it += 1\n",
    "        return a\n",
    "    elif ones < 3:\n",
    "        if a < 7:\n",
    "            return -1\n",
    "        \n",
    "        r_it = 0\n",
    "        while ones < 3:\n",
    "            while not get_bit(a, r_it):\n",
    "                r_it += 1\n",
    "\n",
    "            a = clear_bit(a, r_it)\n",
    "            ones -= 1\n",
    "\n",
    "            if r_it < 2:\n",
    "                r_it += 1\n",
    "                continue\n",
    "\n",
    "            f_it = r_it - 1\n",
    "            while 3 - ones > 0 and f_it >= 0:\n",
    "                a = set_bit(a, f_it)\n",
    "                ones += 1\n",
    "                f_it -= 1\n",
    "    \n",
    "    return a\n",
    "\n",
    "if __name__ == \"__main__\":\n",
    "    n = int(input())\n",
    "    for _ in range(n):\n",
    "        a = int(input())\n",
    "    \n",
    "        print(find_nearest_sum_of_powers_of_two(a))\n"
   ]
  }
 ],
 "metadata": {
  "kernelspec": {
   "display_name": "mltest",
   "language": "python",
   "name": "python3"
  },
  "language_info": {
   "codemirror_mode": {
    "name": "ipython",
    "version": 3
   },
   "file_extension": ".py",
   "mimetype": "text/x-python",
   "name": "python",
   "nbconvert_exporter": "python",
   "pygments_lexer": "ipython3",
   "version": "3.12.5"
  }
 },
 "nbformat": 4,
 "nbformat_minor": 2
}
