{
 "cells": [
  {
   "cell_type": "code",
   "execution_count": null,
   "metadata": {},
   "outputs": [
    {
     "name": "stdout",
     "output_type": "stream",
     "text": [
      "2\n"
     ]
    }
   ],
   "source": [
    "\n",
    "\n",
    "def minimum_adjustments(arr, m):\n",
    "    a0, b0 = arr[0], arr[1]\n",
    "    c = arr[2:]\n",
    "    n = len(c)\n",
    "\n",
    "    c.sort()\n",
    "    min_cost = float('inf')\n",
    "    for i in range(n - m + 1):\n",
    "        j = i + m - 1\n",
    "        window_min = c[i]\n",
    "        window_max = c[j]\n",
    "        cost_a = max(0, a0 - window_min)  \n",
    "        cost_b = max(0, window_max - b0)  \n",
    "        total_cost = cost_a + cost_b\n",
    "        if total_cost < min_cost:\n",
    "            min_cost = total_cost\n",
    "\n",
    "    return min_cost if min_cost != float('inf') else 0\n",
    "if __name__ == \"__main__\":\n",
    "    n, m = map(int, input().split())\n",
    "    arr = list(map(int, input().split()))\n",
    "    print(minimum_adjustments(arr, m))"
   ]
  }
 ],
 "metadata": {
  "kernelspec": {
   "display_name": "mltest",
   "language": "python",
   "name": "python3"
  },
  "language_info": {
   "codemirror_mode": {
    "name": "ipython",
    "version": 3
   },
   "file_extension": ".py",
   "mimetype": "text/x-python",
   "name": "python",
   "nbconvert_exporter": "python",
   "pygments_lexer": "ipython3",
   "version": "3.12.5"
  }
 },
 "nbformat": 4,
 "nbformat_minor": 2
}
