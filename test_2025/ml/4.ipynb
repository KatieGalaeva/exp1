{
 "cells": [
  {
   "cell_type": "code",
   "execution_count": 5,
   "metadata": {},
   "outputs": [
    {
     "name": "stdout",
     "output_type": "stream",
     "text": [
      "2\n"
     ]
    }
   ],
   "source": [
    "import math\n",
    "\n",
    "def min_increments(sequence, x, y, z):\n",
    "    \n",
    "    def cost_dis(val, d):\n",
    "        return (d - (val % d)) % d\n",
    "    lcm_xy = (x * y) // math.gcd(x, y)\n",
    "    lcm_xz = (x * z) // math.gcd(x, z)\n",
    "    lcm_yz = (y * z) // math.gcd(y, z)\n",
    "    lcm_xyz = (lcm_xy * z) // math.gcd(lcm_xy, z)\n",
    "    coverage_options = [\n",
    "        (1, lambda val: cost_dis(val, x)),          \n",
    "        (2, lambda val: cost_dis(val, y)),          \n",
    "        (4, lambda val: cost_dis(val, z)),          \n",
    "        (1|2, lambda val: cost_dis(val, lcm_xy)),   \n",
    "        (1|4, lambda val: cost_dis(val, lcm_xz)),   \n",
    "        (2|4, lambda val: cost_dis(val, lcm_yz)),   \n",
    "        (1|2|4, lambda val: cost_dis(val, lcm_xyz)) \n",
    "    ]\n",
    "    \n",
    "    INF = 10**15\n",
    "    dp = [INF] * 8\n",
    "    dp[0] = 0\n",
    "    \n",
    "    for val in sequence:\n",
    "        new_dp = dp[:]\n",
    "        for current_mask in range(8):\n",
    "            if dp[current_mask] == INF:\n",
    "                continue\n",
    "            base_cost = dp[current_mask]\n",
    "            for cover_mask, cost_func in coverage_options:\n",
    "                nxt = current_mask | cover_mask\n",
    "                c = cost_func(val) \n",
    "                if base_cost + c < new_dp[nxt]:\n",
    "                    new_dp[nxt] = base_cost + c\n",
    "        dp = new_dp\n",
    "    return dp[7]\n",
    "\n",
    "if __name__ == \"__main__\":\n",
    "    len_n, x, y, z = map(int, input().split())\n",
    "    arr = list(map(int, input().split()))\n",
    "    print(min_increments(arr, x, y, z))\n",
    "\n",
    "\n",
    "\n",
    "#[8, 17, 5, 28, 39, 13], 10, 3, 30))  #2 (число 28 до 30)\n",
    "#[8, 17, 5, 28, 39, 13], 10, 20, 30)) #3"
   ]
  },
  {
   "cell_type": "code",
   "execution_count": 25,
   "metadata": {},
   "outputs": [
    {
     "name": "stdout",
     "output_type": "stream",
     "text": [
      "3\n"
     ]
    }
   ],
   "source": [
    "print(min_operations(n, x, y, z))"
   ]
  }
 ],
 "metadata": {
  "kernelspec": {
   "display_name": "mltest",
   "language": "python",
   "name": "python3"
  },
  "language_info": {
   "codemirror_mode": {
    "name": "ipython",
    "version": 3
   },
   "file_extension": ".py",
   "mimetype": "text/x-python",
   "name": "python",
   "nbconvert_exporter": "python",
   "pygments_lexer": "ipython3",
   "version": "3.12.5"
  }
 },
 "nbformat": 4,
 "nbformat_minor": 2
}
