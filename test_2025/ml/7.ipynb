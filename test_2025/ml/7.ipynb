{
 "cells": [
  {
   "cell_type": "code",
   "execution_count": 10,
   "metadata": {},
   "outputs": [
    {
     "name": "stdout",
     "output_type": "stream",
     "text": [
      "3\n",
      "9\n",
      "27\n"
     ]
    }
   ],
   "source": [
    "\n",
    "\n",
    "MOD = 998244353\n",
    "\n",
    "def transform_array(a, k):\n",
    "    n = len(a)\n",
    "    S = [0] * (k + 1)\n",
    "    S[0] = n % MOD  \n",
    "\n",
    "    for num in a:\n",
    "        current = num % MOD\n",
    "        for p in range(1, k + 1):\n",
    "            S[p] = (S[p] + current) % MOD\n",
    "            if p < k:\n",
    "                current = current * num % MOD\n",
    "\n",
    "    comb = [[0] * (p + 1) for p in range(k + 1)]\n",
    "    for p in range(k + 1):\n",
    "        comb[p][0] = 1\n",
    "        if p >= 1:\n",
    "            comb[p][p] = 1\n",
    "        for t in range(1, p):\n",
    "            comb[p][t] = (comb[p - 1][t - 1] + comb[p - 1][t]) % MOD\n",
    "\n",
    "\n",
    "    inv_2 = pow(2, MOD - 2, MOD) \n",
    "\n",
    "    for p in range(1, k + 1):\n",
    "        sum_total = 0\n",
    "        for t in range(p + 1):\n",
    "            c = comb[p][t]\n",
    "            s_t = S[t]\n",
    "            s_pt = S[p - t]\n",
    "            term = c * s_t % MOD\n",
    "            term = term * s_pt % MOD\n",
    "            sum_total = (sum_total + term) % MOD\n",
    "\n",
    "  \n",
    "        pow2_p = pow(2, p, MOD)\n",
    "        sum_2a_p = pow2_p * S[p] % MOD\n",
    "        res = (sum_total - sum_2a_p) * inv_2 % MOD\n",
    "        res = (res + MOD) % MOD\n",
    "        print(res)\n",
    "\n",
    "\n",
    "if __name__ == '__main__':\n",
    "    n, k = map(int, input().split())\n",
    "    arr = list(map(int, input().split()))\n",
    "    transform_array(arr, k)\n",
    "    "
   ]
  },
  {
   "cell_type": "code",
   "execution_count": 12,
   "metadata": {},
   "outputs": [
    {
     "data": {
      "text/plain": [
       "[1, 2]"
      ]
     },
     "execution_count": 12,
     "metadata": {},
     "output_type": "execute_result"
    }
   ],
   "source": [
    "arr"
   ]
  }
 ],
 "metadata": {
  "kernelspec": {
   "display_name": "mltest",
   "language": "python",
   "name": "python3"
  },
  "language_info": {
   "codemirror_mode": {
    "name": "ipython",
    "version": 3
   },
   "file_extension": ".py",
   "mimetype": "text/x-python",
   "name": "python",
   "nbconvert_exporter": "python",
   "pygments_lexer": "ipython3",
   "version": "3.12.5"
  }
 },
 "nbformat": 4,
 "nbformat_minor": 2
}
