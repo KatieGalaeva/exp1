{
 "cells": [
  {
   "cell_type": "code",
   "execution_count": 58,
   "metadata": {},
   "outputs": [],
   "source": [
    "n = int(input())\n",
    "a = []\n",
    "for i in range(n):\n",
    "    a.append(list(map(int, input().split())))\n"
   ]
  },
  {
   "cell_type": "code",
   "execution_count": 43,
   "metadata": {},
   "outputs": [
    {
     "data": {
      "text/plain": [
       "[[-3, 5], [-5, 3], [-6, 3], [-7, 4], [-7, 1], [-7, 6], [-7, 7], [-9, 3]]"
      ]
     },
     "execution_count": 43,
     "metadata": {},
     "output_type": "execute_result"
    }
   ],
   "source": [
    "a"
   ]
  },
  {
   "cell_type": "code",
   "execution_count": 59,
   "metadata": {},
   "outputs": [
    {
     "name": "stdout",
     "output_type": "stream",
     "text": [
      "0\n"
     ]
    }
   ],
   "source": [
    "from itertools import combinations\n",
    "\n",
    "def is_colinear(p1, p2, p3):\n",
    "    return (p2[0] - p1[0]) * (p3[1] - p1[1]) == (p3[0] - p1[0]) * (p2[1] - p1[1])\n",
    "\n",
    "def max_triangles(points):\n",
    "    n = len(points)\n",
    "    used = [False] * n\n",
    "    groups = 0\n",
    "\n",
    "    valid_triangles = []\n",
    "    for trio in combinations(range(n), 3):\n",
    "        i, j, k = trio\n",
    "        if not is_colinear(points[i], points[j], points[k]):\n",
    "            valid_triangles.append(trio)\n",
    "\n",
    "    valid_triangles.sort(key=lambda t: sum(used[p] for p in t))\n",
    "\n",
    "    for trio in valid_triangles:\n",
    "        i, j, k = trio\n",
    "        if not (used[i] or used[j] or used[k]):\n",
    "            used[i] = used[j] = used[k] = True\n",
    "            groups += 1\n",
    "\n",
    "    return groups\n",
    "\n",
    "if __name__ == \"__main__\":\n",
    "    \n",
    "    print(max_triangles(a))"
   ]
  }
 ],
 "metadata": {
  "kernelspec": {
   "display_name": "mltest",
   "language": "python",
   "name": "python3"
  },
  "language_info": {
   "codemirror_mode": {
    "name": "ipython",
    "version": 3
   },
   "file_extension": ".py",
   "mimetype": "text/x-python",
   "name": "python",
   "nbconvert_exporter": "python",
   "pygments_lexer": "ipython3",
   "version": "3.12.5"
  }
 },
 "nbformat": 4,
 "nbformat_minor": 2
}
