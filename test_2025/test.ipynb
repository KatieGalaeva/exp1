{
 "cells": [
  {
   "cell_type": "code",
   "execution_count": 2,
   "metadata": {},
   "outputs": [],
   "source": [
    "import random\n",
    "int=[]\n",
    "for i in range(10):\n",
    "    int.append(random.randint(0,1000))\n"
   ]
  },
  {
   "cell_type": "code",
   "execution_count": 3,
   "metadata": {},
   "outputs": [
    {
     "data": {
      "text/plain": [
       "[329, 154, 606, 437, 568, 793, 220, 106, 46, 286]"
      ]
     },
     "execution_count": 3,
     "metadata": {},
     "output_type": "execute_result"
    }
   ],
   "source": [
    "int"
   ]
  },
  {
   "cell_type": "code",
   "execution_count": 5,
   "metadata": {},
   "outputs": [
    {
     "data": {
      "text/plain": [
       "606"
      ]
     },
     "execution_count": 5,
     "metadata": {},
     "output_type": "execute_result"
    }
   ],
   "source": [
    "sort_int=sorted(int, reverse=True)\n",
    "sort_int[1]"
   ]
  },
  {
   "cell_type": "code",
   "execution_count": 2,
   "metadata": {},
   "outputs": [
    {
     "name": "stdout",
     "output_type": "stream",
     "text": [
      "a\n"
     ]
    }
   ],
   "source": [
    "def palindrom(n):\n",
    "\n",
    "    n_list=list(str(n))\n",
    "    n_reverse=n_list[::-1]\n",
    "    if n_list==n_reverse:\n",
    "        return True\n",
    "    else:\n",
    "        return False\n",
    "\n",
    "try:\n",
    "    print(palindrom())\n",
    "except:\n",
    "    print('a')\n"
   ]
  },
  {
   "cell_type": "code",
   "execution_count": 10,
   "metadata": {},
   "outputs": [],
   "source": [
    "import pandas as pd"
   ]
  },
  {
   "cell_type": "code",
   "execution_count": 11,
   "metadata": {},
   "outputs": [],
   "source": [
    "df = pd.DataFrame({'user': [1,2,2,3,1,1,2,2,3,3], 'item': [1,1,2,2,3,1,3,1,1,2]})"
   ]
  },
  {
   "cell_type": "code",
   "execution_count": 12,
   "metadata": {},
   "outputs": [
    {
     "data": {
      "text/plain": [
       "1"
      ]
     },
     "execution_count": 12,
     "metadata": {},
     "output_type": "execute_result"
    }
   ],
   "source": [
    "df['item'].value_counts().idxmax()"
   ]
  },
  {
   "cell_type": "code",
   "execution_count": 21,
   "metadata": {},
   "outputs": [
    {
     "name": "stdout",
     "output_type": "stream",
     "text": [
      "A7А5\n"
     ]
    }
   ],
   "source": [
    "def count_letters(lst):\n",
    "    first = lst[0]\n",
    "    count=1\n",
    "    result=[first]\n",
    "    for letter in lst:\n",
    "        if letter==first:\n",
    "            count+=1\n",
    "        else:\n",
    "            result.append(count)\n",
    "            count=1\n",
    "            first=letter\n",
    "            result.append(first)\n",
    "    result.append(count)\n",
    "\n",
    "    return ''.join(str(item) for item in result)\n",
    "print(count_letters('AAAAAAААААА'))"
   ]
  }
 ],
 "metadata": {
  "kernelspec": {
   "display_name": "mltest",
   "language": "python",
   "name": "python3"
  },
  "language_info": {
   "codemirror_mode": {
    "name": "ipython",
    "version": 3
   },
   "file_extension": ".py",
   "mimetype": "text/x-python",
   "name": "python",
   "nbconvert_exporter": "python",
   "pygments_lexer": "ipython3",
   "version": "3.12.5"
  }
 },
 "nbformat": 4,
 "nbformat_minor": 2
}
