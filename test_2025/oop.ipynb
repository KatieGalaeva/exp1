{
 "cells": [
  {
   "cell_type": "code",
   "execution_count": 1,
   "metadata": {},
   "outputs": [],
   "source": [
    "class Person:\n",
    "    \n",
    "    __name = 'n/a'\n",
    "    __age = 0\n",
    "    __adress = 'n/a'\n",
    "\n",
    "    def __init__(self, n, a):\n",
    "        self.__name = n\n",
    "        self.__age = a\n",
    "\n",
    "    def set_name(self, n):\n",
    "        self.__name = n\n",
    "\n",
    "    def name(self):\n",
    "        return self.__name\n",
    "\n",
    "    def set_age(self, a):\n",
    "        self.__age = a\n",
    "    \n",
    "    def age(self):\n",
    "        return self.__age\n",
    "    \n",
    "    def set_adress(self, a):\n",
    "        self.__adress = a\n",
    "    \n",
    "    def adress(self):\n",
    "        return self.__adress\n",
    "    \n",
    "    def description_of_person(self):\n",
    "        print('...........')\n",
    "        print('/ Hi, My name is', self.__name)\n",
    "        print(\"/ I am\", self.__age,'years old')\n",
    "        print('/ My adress is', self.__adress)\n",
    "\n",
    "    @staticmethod\n",
    "    def test_static():\n",
    "        print(\"I am a static method\")  #basic function, don't have any argument\n",
    "    \n",
    "    @classmethod\n",
    "    def test_class(cls):\n",
    "        print(\"I am a class method\")  #it is a part of a class, an argument is a class, not self\n",
    "        print(cls.__age)\n",
    "\n",
    "class House:\n",
    "    __adress = 'n/a'\n",
    "    __list_of_residents = ['n/a']\n",
    "\n",
    "    def __init__(self, n):\n",
    "        self.__adress = n\n",
    "\n",
    "    def set_adress(self, a):\n",
    "        self.__adress = a\n",
    "    \n",
    "    def adress(self):\n",
    "        return self.__adress\n",
    "    \n",
    "    def settle_person(self, g):\n",
    "        if isinstance(g, Person):\n",
    "            self.__list_of_residents.append(g)\n",
    "            g.set_adress(self.__adress)\n",
    "\n",
    "    def evac_person(self, g):\n",
    "        self.__list_of_residents.remove(g)\n",
    "        g.set_adress('n/a')\n",
    "\n",
    "    def desciption_of_house(self):\n",
    "        print(\"'''''''''''''\")\n",
    "        print('# Adress of this house is', self.__adress)\n",
    "        print('# List of residents:')\n",
    "        for i in self.__list_of_residents:\n",
    "            if isinstance(i, Person):\n",
    "                print('# - ', i.name())"
   ]
  },
  {
   "cell_type": "code",
   "execution_count": 2,
   "metadata": {},
   "outputs": [],
   "source": [
    "person = Person(\"Viacoclav\", 27)\n",
    "house = House('1 Street')\n",
    "\n",
    "\n",
    "house.settle_person(person)\n",
    "\n",
    "\n",
    "\n"
   ]
  },
  {
   "cell_type": "code",
   "execution_count": 3,
   "metadata": {},
   "outputs": [
    {
     "name": "stdout",
     "output_type": "stream",
     "text": [
      "...........\n",
      "/ Hi, My name is Viacoclav\n",
      "/ I am 27 years old\n",
      "/ My adress is 1 Street\n",
      "'''''''''''''\n",
      "# Adress of this house is 1 Street\n",
      "# List of residents:\n",
      "# -  Viacoclav\n"
     ]
    }
   ],
   "source": [
    "person.description_of_person()\n",
    "house.desciption_of_house()"
   ]
  },
  {
   "cell_type": "code",
   "execution_count": 4,
   "metadata": {},
   "outputs": [
    {
     "name": "stdout",
     "output_type": "stream",
     "text": [
      "...........\n",
      "/ Hi, My name is Viacoclav\n",
      "/ I am 27 years old\n",
      "/ My adress is 1 Street\n",
      "...........\n",
      "/ Hi, My name is Katie\n",
      "/ I am 18 years old\n",
      "/ My adress is 1 Street\n",
      "'''''''''''''\n",
      "# Adress of this house is 1 Street\n",
      "# List of residents:\n",
      "# -  Viacoclav\n",
      "# -  Katie\n"
     ]
    }
   ],
   "source": [
    "person2 = Person(\"Katie\", 18)\n",
    "\n",
    "house.settle_person(person2)\n",
    "person.description_of_person()\n",
    "person2.description_of_person()\n",
    "house.desciption_of_house()"
   ]
  },
  {
   "cell_type": "code",
   "execution_count": 5,
   "metadata": {},
   "outputs": [
    {
     "name": "stdout",
     "output_type": "stream",
     "text": [
      "I am a class method\n",
      "0\n",
      "I am a static method\n",
      "I am a static method\n"
     ]
    }
   ],
   "source": [
    "person.test_class()\n",
    "person.test_static()\n",
    "Person.test_static()"
   ]
  },
  {
   "cell_type": "markdown",
   "metadata": {},
   "source": [
    "#Metods and data"
   ]
  },
  {
   "cell_type": "code",
   "execution_count": 6,
   "metadata": {},
   "outputs": [
    {
     "name": "stdout",
     "output_type": "stream",
     "text": [
      "...........\n",
      "/ Hi, My name is Phizicheslav\n",
      "/ I am 27 years old\n",
      "/ My adress is 1 Street\n",
      "'''''''''''''\n",
      "# Adress of this house is 1 Street\n",
      "# List of residents:\n",
      "# -  Viacoclav\n",
      "# -  Katie\n",
      "# -  Phizicheslav\n"
     ]
    }
   ],
   "source": [
    "person3= Person('Phizicheslav', 27)\n",
    "house.settle_person(person3)\n",
    "person3.description_of_person()\n",
    "\n",
    "house.desciption_of_house()"
   ]
  },
  {
   "cell_type": "code",
   "execution_count": 23,
   "metadata": {},
   "outputs": [],
   "source": [
    "#inheritance\n",
    "\n",
    "class Programmer(Person):\n",
    "    __prog_exp = 0\n",
    "\n",
    "    def set_prog_exp(self, px):\n",
    "        self.__prog_exp = px\n",
    "\n",
    "    def get_prog_exp(self):\n",
    "        return self.__prog_exp\n",
    "    \n",
    "    def description_of_person(self):\n",
    "        super().description_of_person()\n",
    "        print('/ I am a programmer and my experience is', self.__prog_exp)"
   ]
  },
  {
   "cell_type": "code",
   "execution_count": 24,
   "metadata": {},
   "outputs": [
    {
     "name": "stdout",
     "output_type": "stream",
     "text": [
      "...........\n",
      "/ Hi, My name is Katie\n",
      "/ I am 18 years old\n",
      "/ My adress is n/a\n",
      "/ I am a programmer and my experience is 1\n"
     ]
    },
    {
     "data": {
      "text/plain": [
       "1"
      ]
     },
     "execution_count": 24,
     "metadata": {},
     "output_type": "execute_result"
    }
   ],
   "source": [
    "person2 = Programmer('Katie', 18)\n",
    "\n",
    "person2.set_prog_exp(1)\n",
    "person2.description_of_person()\n",
    "person2.age()\n",
    "person2.get_prog_exp()"
   ]
  },
  {
   "cell_type": "code",
   "execution_count": 28,
   "metadata": {},
   "outputs": [],
   "source": [
    "class Driver(Person):\n",
    "\n",
    "    __dr_exp = 0\n",
    "\n",
    "    def set_dr_exp(self, de):\n",
    "        self.__dr_exp = de\n",
    "\n",
    "    def get_dr_exp(self):\n",
    "        return self.__dr_exp\n",
    "    \n",
    "    def description_of_person(self):\n",
    "        super().description_of_person()\n",
    "        print('/ I am a driver and my experience is', self.__dr_exp)\n"
   ]
  },
  {
   "cell_type": "code",
   "execution_count": 31,
   "metadata": {},
   "outputs": [
    {
     "name": "stdout",
     "output_type": "stream",
     "text": [
      "...........\n",
      "/ Hi, My name is Slava\n",
      "/ I am 29 years old\n",
      "/ My adress is n/a\n",
      "/ I am a driver and my experience is 4\n"
     ]
    },
    {
     "data": {
      "text/plain": [
       "'1 Street'"
      ]
     },
     "execution_count": 31,
     "metadata": {},
     "output_type": "execute_result"
    }
   ],
   "source": [
    "person4=Driver('Slava', 29)\n",
    "person4.set_dr_exp(4)\n",
    "person4.description_of_person()\n",
    "person.adress()"
   ]
  }
 ],
 "metadata": {
  "kernelspec": {
   "display_name": "mltest",
   "language": "python",
   "name": "python3"
  },
  "language_info": {
   "codemirror_mode": {
    "name": "ipython",
    "version": 3
   },
   "file_extension": ".py",
   "mimetype": "text/x-python",
   "name": "python",
   "nbconvert_exporter": "python",
   "pygments_lexer": "ipython3",
   "version": "3.12.5"
  }
 },
 "nbformat": 4,
 "nbformat_minor": 2
}
