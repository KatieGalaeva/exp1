{
 "cells": [
  {
   "cell_type": "code",
   "execution_count": 14,
   "metadata": {},
   "outputs": [],
   "source": [
    "def unique_in_order(sequence):\n",
    "    first = sequence[0]\n",
    "    result=[first]\n",
    "    for i in range(1, len(sequence)):\n",
    "        next = sequence[i]\n",
    "        if next==first:\n",
    "            continue\n",
    "        else:\n",
    "            result.append(next)\n",
    "            first = next\n",
    "    return result\n",
    "\n"
   ]
  },
  {
   "cell_type": "code",
   "execution_count": 16,
   "metadata": {},
   "outputs": [],
   "source": [
    "result = unique_in_order((1,2,2,3,3))"
   ]
  },
  {
   "cell_type": "code",
   "execution_count": 17,
   "metadata": {},
   "outputs": [
    {
     "data": {
      "text/plain": [
       "[3]"
      ]
     },
     "execution_count": 17,
     "metadata": {},
     "output_type": "execute_result"
    }
   ],
   "source": [
    "result[2:]"
   ]
  },
  {
   "cell_type": "code",
   "execution_count": 4,
   "metadata": {},
   "outputs": [
    {
     "data": {
      "text/plain": [
       "416473"
      ]
     },
     "execution_count": 4,
     "metadata": {},
     "output_type": "execute_result"
    }
   ],
   "source": [
    "def next_smaller(n):\n",
    "    digits = list(str(n))\n",
    "    length = len(digits)\n",
    "\n",
    "    for i in range(length - 1, 0, -1):\n",
    "\n",
    "        if digits[i]<digits[i-1]:\n",
    "            subarray  = ((digits[i-1:]))\n",
    "            next_digits = max(filter(lambda x: x<digits[i-1], subarray))\n",
    "            digits[i-1] = next_digits\n",
    "            subarray.remove(next_digits)\n",
    "            digits[i:] = sorted(subarray, reverse=True)\n",
    "            return int(\"\".join(digits))\n",
    "    return -1   \n",
    "\n",
    "#next_smaller(2071)\n",
    "#next_smaller(1234567908)\n",
    "next_smaller(416734)"
   ]
  }
 ],
 "metadata": {
  "kernelspec": {
   "display_name": "mltest",
   "language": "python",
   "name": "python3"
  },
  "language_info": {
   "codemirror_mode": {
    "name": "ipython",
    "version": 3
   },
   "file_extension": ".py",
   "mimetype": "text/x-python",
   "name": "python",
   "nbconvert_exporter": "python",
   "pygments_lexer": "ipython3",
   "version": "3.12.5"
  }
 },
 "nbformat": 4,
 "nbformat_minor": 2
}
