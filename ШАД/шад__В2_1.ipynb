{
 "cells": [
  {
   "cell_type": "code",
   "execution_count": 35,
   "metadata": {},
   "outputs": [],
   "source": [
    "n, m = map(int, input().split())\n",
    "num=list(input().split())\n",
    "nums=[int(el) for el in num]"
   ]
  },
  {
   "cell_type": "code",
   "execution_count": 36,
   "metadata": {},
   "outputs": [
    {
     "name": "stdout",
     "output_type": "stream",
     "text": [
      "9.000000\n",
      "1 3 5 10\n"
     ]
    }
   ],
   "source": [
    "\n",
    "\n",
    "sor_nums=sorted(nums)\n",
    "l=0\n",
    "r=m-1\n",
    "min_diam= (sor_nums[r] - sor_nums[l]) / sor_nums[l]\n",
    "min_l = l\n",
    "min_r = r\n",
    "l+=1\n",
    "r+=1\n",
    "while r<=n-1:\n",
    "    minimum=sor_nums[l]\n",
    "    maximum=sor_nums[r]\n",
    "    diam = (maximum-minimum)/minimum\n",
    "    if diam < min_diam:\n",
    "        min_diam = diam\n",
    "        min_l = l\n",
    "        min_r= r\n",
    "    r+=1\n",
    "    l+=1\n",
    "\n",
    "print(format(min_diam, '.6f'))\n",
    "print(' '.join(map(str, sor_nums[min_l:min_r+1])))"
   ]
  }
 ],
 "metadata": {
  "kernelspec": {
   "display_name": "mltest",
   "language": "python",
   "name": "python3"
  },
  "language_info": {
   "codemirror_mode": {
    "name": "ipython",
    "version": 3
   },
   "file_extension": ".py",
   "mimetype": "text/x-python",
   "name": "python",
   "nbconvert_exporter": "python",
   "pygments_lexer": "ipython3",
   "version": "3.12.3"
  }
 },
 "nbformat": 4,
 "nbformat_minor": 2
}
