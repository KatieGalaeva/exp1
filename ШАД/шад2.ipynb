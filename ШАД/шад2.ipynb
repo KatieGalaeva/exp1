{
 "cells": [
  {
   "cell_type": "code",
   "execution_count": 2,
   "metadata": {},
   "outputs": [
    {
     "name": "stdout",
     "output_type": "stream",
     "text": [
      "7\n",
      "2\n",
      "5\n",
      "3\n",
      "4\n"
     ]
    }
   ],
   "source": [
    "\n",
    "import math\n",
    "\n",
    "def binary_search(a, x, lo=0, hi=None):\n",
    "    if hi is None:\n",
    "        hi = len(a)\n",
    "    while lo < hi:\n",
    "        mid = (lo+hi)//2\n",
    "        midval = a[mid][0]\n",
    "        if midval < x:\n",
    "            lo = mid+1\n",
    "        elif midval > x: \n",
    "            hi = mid\n",
    "        else:\n",
    "            return mid\n",
    "    return lo\n",
    "\n",
    "\n",
    "def move(x:int, v:int, a:int, t:int):\n",
    "    return (x + v*t + a*t*t//2, v + a*t)\n",
    "\n",
    "\n",
    "def solve_t(x:int, start_x:int, v:int, a:int):\n",
    "    dx = x - start_x\n",
    "    \n",
    "    if a == 0:\n",
    "        return dx//v\n",
    "    else: \n",
    "        d = v**2 + 2*a*dx\n",
    "        return int((math.sqrt(d) - v)//a)\n",
    "\n",
    "\n",
    "def read_intervals():\n",
    "    n = int(input())\n",
    "    intervals=[(int(0),) * 5]\n",
    "    for _ in range(n):\n",
    "        row = list(input().split()) \n",
    "        l, r, a = [int(row[j]) for j in range(3)]\n",
    "        x  = intervals[-1][0] \n",
    "        v  = intervals[-1][1] \n",
    "        new_x, new_v = move(x, v, a, r - l)\n",
    "        intervals.append((new_x, new_v, a, l, r))\n",
    "    return intervals   \n",
    "\n",
    "\n",
    "intervals = read_intervals()\n",
    "\n",
    "m = int(input())\n",
    "for _ in range(m):\n",
    "    d = int(input())\n",
    "    inter_idx = binary_search(intervals, d)\n",
    "    start_x = intervals[inter_idx - 1][0]\n",
    "    start_v = intervals[inter_idx - 1][1]\n",
    "    a = intervals[inter_idx][2]\n",
    "    t = solve_t(d, start_x, start_v, a)\n",
    "    print(intervals[inter_idx][3] + t)"
   ]
  }
 ],
 "metadata": {
  "kernelspec": {
   "display_name": "mltest",
   "language": "python",
   "name": "python3"
  },
  "language_info": {
   "codemirror_mode": {
    "name": "ipython",
    "version": 3
   },
   "file_extension": ".py",
   "mimetype": "text/x-python",
   "name": "python",
   "nbconvert_exporter": "python",
   "pygments_lexer": "ipython3",
   "version": "3.12.3"
  }
 },
 "nbformat": 4,
 "nbformat_minor": 2
}
