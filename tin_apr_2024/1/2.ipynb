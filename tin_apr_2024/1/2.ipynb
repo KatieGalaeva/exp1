{
 "cells": [
  {
   "cell_type": "code",
   "execution_count": 13,
   "metadata": {},
   "outputs": [
    {
     "name": "stdout",
     "output_type": "stream",
     "text": [
      "[[1, 1], [2, 3]]\n"
     ]
    }
   ],
   "source": [
    "task 2\n",
    "n, m = map(int, input().split())\n",
    "matrix=[]\n",
    "for i in range(n):\n",
    "    row=list(input().split())\n",
    "    introw=[int(el) for el in row]\n",
    "    matrix.append(introw)\n",
    "    \n",
    "for i in range(m):\n",
    "    for j in range(n-1,-1,-1):\n",
    "        print(matrix[j][i], end=' ')\n",
    "    print()\n",
    "\n",
    "#n, m = map(int, input().split())\n",
    "#matrix=[]\n",
    "#for i in range(n):\n",
    "#    row=list(input().split())\n",
    "#    introw=[int(el) for el in row]\n",
    "#    matrix.append(introw)\n",
    "#    \n",
    "#for i in range(m):\n",
    "#    for j in range(n-2):\n",
    "#        temp = matrix[j][i+1] \n",
    "#        matrix[j][i+1] = matrix[i][j]\n",
    "#        matrix[i][j] = matrix[i+1][j]\n",
    "#        matrix[i+1][j] = matrix[j+1][i+1]\n",
    "#        matrix[j+1][i+1] = temp\n",
    "#rint(matrix)"
   ]
  }
 ],
 "metadata": {
  "kernelspec": {
   "display_name": "mltest",
   "language": "python",
   "name": "python3"
  },
  "language_info": {
   "codemirror_mode": {
    "name": "ipython",
    "version": 3
   },
   "file_extension": ".py",
   "mimetype": "text/x-python",
   "name": "python",
   "nbconvert_exporter": "python",
   "pygments_lexer": "ipython3",
   "version": "3.12.3"
  }
 },
 "nbformat": 4,
 "nbformat_minor": 2
}
