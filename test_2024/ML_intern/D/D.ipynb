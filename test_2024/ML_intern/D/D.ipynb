{
 "cells": [
  {
   "cell_type": "code",
   "execution_count": 94,
   "metadata": {},
   "outputs": [],
   "source": [
    "import numpy as np\n",
    "from scipy.optimize import minimize\n",
    "import pandas as pd"
   ]
  },
  {
   "cell_type": "code",
   "execution_count": 95,
   "metadata": {},
   "outputs": [],
   "source": [
    "data = pd.read_csv(\"data.csv\", header=None)\n",
    "x_values = data[0].values\n",
    "y_values = data[1].values\n"
   ]
  },
  {
   "cell_type": "code",
   "execution_count": 98,
   "metadata": {},
   "outputs": [],
   "source": [
    "def function(params, x):\n",
    "    a, b, c = params\n",
    "    \n",
    "    \n",
    "    epsilon_a = 0\n",
    "    epsilon_b = 0\n",
    "    epsilon_c = 0\n",
    "   \n",
    "    \n",
    "    # Calculate f(x) \n",
    "    return ((a + epsilon_a) * np.sin(x) + (b + epsilon_b) * np.log(x))**2 + (c + epsilon_c) * x**2\n"
   ]
  },
  {
   "cell_type": "code",
   "execution_count": 99,
   "metadata": {},
   "outputs": [
    {
     "name": "stdout",
     "output_type": "stream",
     "text": [
      "3.14 2.72 4.00\n"
     ]
    }
   ],
   "source": [
    "def error_function(params):\n",
    "    calculated_f = function(params, x_values)\n",
    "    error = np.abs(calculated_f - y_values)\n",
    "    return np.mean(error)  \n",
    "\n",
    "# Initial guess for a, b, c\n",
    "initial_guess = [1.0, 1.0, 1.0]\n",
    "\n",
    "\n",
    "# Minimize the error function\n",
    "result = minimize(error_function, initial_guess)\n",
    "\n",
    "# Get optimized parameters\n",
    "a, b, c = result.x\n",
    "\n",
    "# Print results with precision of 2 decimal places\n",
    "print(f\"{a:.2f} {b:.2f} {c:.2f}\")"
   ]
  },
  {
   "cell_type": "markdown",
   "metadata": {},
   "source": [
    "с шумом получается чухня"
   ]
  },
  {
   "cell_type": "code",
   "execution_count": 140,
   "metadata": {},
   "outputs": [],
   "source": [
    "def function_with_noise(x, a,b,c):\n",
    "    \n",
    "    \n",
    "    # Introduce random noise within the range [-0.001, 0.001]\n",
    "    epsilon_a = np.random.uniform(-0.001, 0.001)\n",
    "    epsilon_b = np.random.uniform(-0.001, 0.001)\n",
    "    epsilon_c = np.random.uniform(-0.001, 0.001)\n",
    "   \n",
    "    \n",
    "    # Calculate f(x) with noise\n",
    "    return ((a + epsilon_a) * np.sin(x) + (b + epsilon_b) * np.log(x))**2 + (c + epsilon_c) * x**2\n"
   ]
  },
  {
   "cell_type": "code",
   "execution_count": 141,
   "metadata": {},
   "outputs": [],
   "source": [
    "from scipy.optimize import curve_fit\n",
    "def loss(params, x, y):\n",
    "    a, b, c = params\n",
    "    y_pred = function_with_noise(x, a, b, c)\n",
    "    return np.mean((y - y_pred) ** 2) \n",
    "initial_guess = [1, 1, 1]"
   ]
  },
  {
   "cell_type": "code",
   "execution_count": 142,
   "metadata": {},
   "outputs": [],
   "source": [
    "result = minimize(loss, initial_guess, args=(x_values, y_values))"
   ]
  },
  {
   "cell_type": "code",
   "execution_count": 143,
   "metadata": {},
   "outputs": [
    {
     "name": "stdout",
     "output_type": "stream",
     "text": [
      "Estimated coefficients using minimize:\n",
      "1.00 1.00 1.00\n"
     ]
    }
   ],
   "source": [
    "a, b, c = result.x\n",
    "\n",
    "\n",
    "print(f\"{a:.2f} {b:.2f} {c:.2f}\")"
   ]
  }
 ],
 "metadata": {
  "kernelspec": {
   "display_name": "mltest",
   "language": "python",
   "name": "python3"
  },
  "language_info": {
   "codemirror_mode": {
    "name": "ipython",
    "version": 3
   },
   "file_extension": ".py",
   "mimetype": "text/x-python",
   "name": "python",
   "nbconvert_exporter": "python",
   "pygments_lexer": "ipython3",
   "version": "3.12.5"
  }
 },
 "nbformat": 4,
 "nbformat_minor": 2
}
