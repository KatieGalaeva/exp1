{
 "cells": [
  {
   "cell_type": "code",
   "execution_count": 52,
   "metadata": {},
   "outputs": [],
   "source": [
    "n, k = map(int, input().split())\n",
    "num=[]\n",
    "row=input().split(' ')\n",
    "for i in range(n):\n",
    "    num.append(int(row[i]))"
   ]
  },
  {
   "cell_type": "code",
   "execution_count": 27,
   "metadata": {},
   "outputs": [
    {
     "name": "stdout",
     "output_type": "stream",
     "text": [
      "6 3 [5, 1, 2, 5, 4, 3]\n"
     ]
    }
   ],
   "source": [
    "print(n,k,num)"
   ]
  },
  {
   "cell_type": "code",
   "execution_count": 63,
   "metadata": {},
   "outputs": [
    {
     "data": {
      "text/plain": [
       "10"
      ]
     },
     "execution_count": 63,
     "metadata": {},
     "output_type": "execute_result"
    }
   ],
   "source": [
    "def min_sum(n,k,num):    \n",
    "    item = {}\n",
    "    sum_min = float(\"inf\")\n",
    "    now_sum = 0\n",
    "    l = 0\n",
    "    for r in range(n):   \n",
    "        if num[r] <= k :    \n",
    "            if num[r] in item:\n",
    "                item[num[r]] += 1\n",
    "            else:\n",
    "                item[num[r]] = 1\n",
    "        now_sum += num[r]\n",
    "        while len(item) == k:\n",
    "            sum_min = min(sum_min, now_sum)\n",
    "            now_sum -= num[l]\n",
    "            if num[l] in item:\n",
    "                item[num[l]] -= 1\n",
    "                if item[num[l]] == 0:\n",
    "                    del item[num[l]]\n",
    "            l += 1\n",
    "    return sum_min\n",
    "min_sum(n,k,num)    "
   ]
  }
 ],
 "metadata": {
  "kernelspec": {
   "display_name": "mltest",
   "language": "python",
   "name": "python3"
  },
  "language_info": {
   "codemirror_mode": {
    "name": "ipython",
    "version": 3
   },
   "file_extension": ".py",
   "mimetype": "text/x-python",
   "name": "python",
   "nbconvert_exporter": "python",
   "pygments_lexer": "ipython3",
   "version": "3.12.5"
  }
 },
 "nbformat": 4,
 "nbformat_minor": 2
}
