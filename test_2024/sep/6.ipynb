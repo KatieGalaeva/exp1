{
 "cells": [
  {
   "cell_type": "markdown",
   "metadata": {},
   "source": [
    "5\n",
    "10 2 3 4 5\n",
    "5 4\n",
    "0 \n",
    "4\n",
    "15 3\n",
    " \n",
    "25\n",
    "\n",
    "6\n",
    "2 2\n",
    "2 3\n",
    "15 4\n",
    "1 5\n",
    "2 6\n",
    "0\n",
    "\n",
    "22"
   ]
  },
  {
   "cell_type": "code",
   "execution_count": 46,
   "metadata": {},
   "outputs": [],
   "source": [
    "\n",
    "\n",
    "\n",
    "\n",
    "from collections import defaultdict\n",
    "def load():\n",
    "    n = int(input())\n",
    "    adjacency_list = defaultdict(list)\n",
    "    for i in range(n):\n",
    "        vertex_in = i + 1 \n",
    "        \n",
    "        list_time_vertex_out= list(input().split(' '))\n",
    "        time = int(list_time_vertex_out[0])\n",
    "        vertex_out_list = list_time_vertex_out[1:]\n",
    "        \n",
    "        vertex_out = [int(el) for el in vertex_out_list if el!='']\n",
    "       \n",
    "\n",
    "        adjacency_list[vertex_in].append(vertex_out)\n",
    "        adjacency_list[vertex_in].append(time)\n",
    "         \n",
    "    \n",
    "    return n, adjacency_list\n",
    "\n",
    "\n",
    "n, adjacency_list = load()\n",
    "#print(adjacency_list)\n"
   ]
  },
  {
   "cell_type": "code",
   "execution_count": 47,
   "metadata": {},
   "outputs": [
    {
     "name": "stdout",
     "output_type": "stream",
     "text": [
      "19\n"
     ]
    }
   ],
   "source": [
    "#change lood and add out_adj_list\n",
    "def topological_sort(n, adj):\n",
    "    \n",
    "    \n",
    "    # Vector to store indegree of each vertex\n",
    "    indegree = {}  \n",
    "    out_adj_list = {}\n",
    "    for i in range(n):\n",
    "        out_adj_list[i+1] = []\n",
    "    \n",
    "        \n",
    "    for i in range(1, n+1):\n",
    "        indegree[i]=len(adj[i][0])\n",
    "        for vertex in adj[i][0]:\n",
    "            if vertex == \"\": \n",
    "                continue\n",
    "            out_adj_list[vertex].append(i)\n",
    "\n",
    "    time= 0 \n",
    "    \n",
    "    visited = set()\n",
    "    q = []\n",
    "    for i in range(1, n+1):\n",
    "        if indegree[i] == 0:\n",
    "            q.append(i)\n",
    "    \n",
    "    while q:\n",
    "        node = q.pop(0)\n",
    "        if node not in visited:\n",
    "            \n",
    "            visited.add(node)\n",
    "            for i in out_adj_list[node]:\n",
    "                indegree[i]-=1\n",
    "                if indegree[i]==0:\n",
    "                    q.append(i)\n",
    "            max_t=0\n",
    "            if len(adj[node][0])>0:\n",
    "                for j in adj[node][0]:\n",
    "                    if adj[j][1]>max_t:\n",
    "                        max_t=adj[j][1]\n",
    "            adj[node][1] = max_t + adj[node][1]\n",
    "            time=max(adj[node][1], time)\n",
    "                \n",
    "                        \n",
    "         \n",
    "    \n",
    "    return time\n",
    "print(topological_sort(n,adjacency_list))"
   ]
  },
  {
   "cell_type": "code",
   "execution_count": 48,
   "metadata": {},
   "outputs": [
    {
     "name": "stdout",
     "output_type": "stream",
     "text": [
      "defaultdict(<class 'list'>, {1: [[2, 3, 4], 19], 2: [[4], 9], 3: [[], 0], 4: [[], 4], 5: [[3], 15]})\n"
     ]
    }
   ],
   "source": [
    "print(adjacency_list)"
   ]
  },
  {
   "cell_type": "code",
   "execution_count": 26,
   "metadata": {},
   "outputs": [
    {
     "data": {
      "text/plain": [
       "45"
      ]
     },
     "execution_count": 26,
     "metadata": {},
     "output_type": "execute_result"
    }
   ],
   "source": [
    "#not working for nodes with high time \n",
    "#def topological_sort(n, adj):\n",
    "    #not connected graph\n",
    "    #for i in range(n):\n",
    "        #if i+1 not in visited:\n",
    "    \n",
    "    \n",
    "    # Vector to store indegree of each vertex\n",
    "#    indegree = {}  \n",
    "  \n",
    "        \n",
    "#    for i in range(1, n+1):\n",
    "#        indegree[i]=len(adj[i][0])\n",
    "        #for vertex in adj[i][0]:\n",
    "        #    if vertex == \"\": \n",
    "        #        continue\n",
    "        #    indegree[vertex] += 1 \n",
    "#    time= 0 \n",
    "#    time_node = 0\n",
    "#    visited = set()\n",
    "#    q = []\n",
    "#    for i in range(1, n+1):\n",
    "#        if indegree[i] == 0:\n",
    "#            q.append(i)\n",
    "#    \n",
    "#    while q:\n",
    "#        node = q.pop(0)\n",
    "#        if node not in visited:\n",
    "#            \n",
    "#            visited.add(node)\n",
    "#            \n",
    "#            for j in range(1, n+1):\n",
    "#               for k in adj[j][0]:\n",
    "#                    if k == node:\n",
    "#                        indegree[j]-=1\n",
    "#                        \n",
    "#                        if indegree[j]==0:\n",
    "#                            q.append(j)\n",
    "#                            adj[j][1]=adj[j][1]+adj[node][1]\n",
    "#                        else:\n",
    "#                            time_node = max(time_node, adj[node][1])\n",
    "#            time = max(adj[node][1], time)\n",
    "#        time = max(time, time_node + adj[node][1])\n",
    "#    \n",
    "#    return time\n",
    "#topological_sort(n,adjacency_list)"
   ]
  }
 ],
 "metadata": {
  "kernelspec": {
   "display_name": "mltest",
   "language": "python",
   "name": "python3"
  },
  "language_info": {
   "codemirror_mode": {
    "name": "ipython",
    "version": 3
   },
   "file_extension": ".py",
   "mimetype": "text/x-python",
   "name": "python",
   "nbconvert_exporter": "python",
   "pygments_lexer": "ipython3",
   "version": "3.12.3"
  }
 },
 "nbformat": 4,
 "nbformat_minor": 2
}
