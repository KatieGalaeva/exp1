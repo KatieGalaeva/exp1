{
 "cells": [
  {
   "cell_type": "markdown",
   "metadata": {},
   "source": [
    "00:00:00\n",
    "5\n",
    "\"VK\" 00:10:21 A FORBIDEN\n",
    "\"T\" 00:00:23 A DENIED\n",
    "\"T\" 00:20:23 A ACCESSED\n",
    "\"VK\" 00:30:23 A ACCESSED\n",
    "\"YA\" 00:40:23 B ACCESSED\n",
    "\n",
    "1 \"T\" 1 40\n",
    "1 \"YA\" 1 40\n",
    "3 \"VK\" 1 50\n",
    "\n",
    "____________\n",
    "\n",
    "01:00:00\n",
    "3\n",
    "\"Team1\" 01:10:00 A FORBIDEN\n",
    "\"Team1\" 01:20:00 A ACCESSED\n",
    "\"Team2\" 01:40:00 B ACCESSED\n",
    "\n",
    "1 \"Team1\" 1 40\n",
    "1 \"Teams\" 1 40\n",
    "\n",
    "___________\n",
    "23:00:00\n",
    "2\n",
    "\"Team1\" 23:59:59 A PONG\n",
    "\"Team1\" 00:00:00 A ACCESSED\n",
    "\n",
    "1 \"Team1\" 1 60\n",
    "\n",
    "\n"
   ]
  },
  {
   "cell_type": "code",
   "execution_count": 24,
   "metadata": {},
   "outputs": [
    {
     "ename": "ValueError",
     "evalue": "invalid literal for int() with base 10: '1\"'",
     "output_type": "error",
     "traceback": [
      "\u001b[1;31m---------------------------------------------------------------------------\u001b[0m",
      "\u001b[1;31mValueError\u001b[0m                                Traceback (most recent call last)",
      "Cell \u001b[1;32mIn[24], line 22\u001b[0m\n\u001b[0;32m     17\u001b[0m         a\u001b[38;5;241m.\u001b[39mappend((row[\u001b[38;5;241m0\u001b[39m], total_minutes, row[\u001b[38;5;241m2\u001b[39m], row[\u001b[38;5;241m3\u001b[39m]))\n\u001b[0;32m     19\u001b[0m     \u001b[38;5;28;01mreturn\u001b[39;00m start_time, n, a\n\u001b[1;32m---> 22\u001b[0m start_time, n, a \u001b[38;5;241m=\u001b[39m \u001b[43mload\u001b[49m\u001b[43m(\u001b[49m\u001b[43m)\u001b[49m\n\u001b[0;32m     23\u001b[0m \u001b[38;5;28mprint\u001b[39m(start_time, n, a)\n",
      "Cell \u001b[1;32mIn[24], line 15\u001b[0m, in \u001b[0;36mload\u001b[1;34m()\u001b[0m\n\u001b[0;32m     10\u001b[0m     input_time\u001b[38;5;241m=\u001b[39mrow[\u001b[38;5;241m1\u001b[39m]\n\u001b[0;32m     11\u001b[0m     t\u001b[38;5;241m=\u001b[39minput_time\u001b[38;5;241m.\u001b[39msplit(\u001b[38;5;124m'\u001b[39m\u001b[38;5;124m:\u001b[39m\u001b[38;5;124m'\u001b[39m)\n\u001b[1;32m---> 15\u001b[0m     total_minutes\u001b[38;5;241m=\u001b[39m \u001b[38;5;28;43mint\u001b[39;49m\u001b[43m(\u001b[49m\u001b[43mt\u001b[49m\u001b[43m[\u001b[49m\u001b[38;5;241;43m0\u001b[39;49m\u001b[43m]\u001b[49m\u001b[43m)\u001b[49m\u001b[38;5;241m*\u001b[39m\u001b[38;5;241m60\u001b[39m\u001b[38;5;241m+\u001b[39m\u001b[38;5;28mint\u001b[39m(t[\u001b[38;5;241m1\u001b[39m])\u001b[38;5;241m*\u001b[39m\u001b[38;5;241m1\u001b[39m \u001b[38;5;241m+\u001b[39m\u001b[38;5;28mint\u001b[39m(t[\u001b[38;5;241m2\u001b[39m])\u001b[38;5;241m/\u001b[39m\u001b[38;5;241m60\u001b[39m\n\u001b[0;32m     17\u001b[0m     a\u001b[38;5;241m.\u001b[39mappend((row[\u001b[38;5;241m0\u001b[39m], total_minutes, row[\u001b[38;5;241m2\u001b[39m], row[\u001b[38;5;241m3\u001b[39m]))\n\u001b[0;32m     19\u001b[0m \u001b[38;5;28;01mreturn\u001b[39;00m start_time, n, a\n",
      "\u001b[1;31mValueError\u001b[0m: invalid literal for int() with base 10: '1\"'"
     ]
    }
   ],
   "source": [
    "\n",
    "def load():\n",
    "    time = (input())\n",
    "    time_split = time.split(':')\n",
    "    start_time = int(time_split[0])*60+int(time_split[1])*1 +int(time_split[2])/60\n",
    "    n = int(input())\n",
    "    a=[]\n",
    "    \n",
    "    for i in range(n):\n",
    "        row = list(input().split(' '))\n",
    "        input_time=row[1]\n",
    "        t=input_time.split(':')\n",
    "        \n",
    "\n",
    "\n",
    "        total_minutes= int(t[0])*60+int(t[1])*1 +int(t[2])/60\n",
    "        \n",
    "        a.append((row[0], total_minutes, row[2], row[3]))\n",
    "\n",
    "    return start_time, n, a\n",
    "\n",
    "\n",
    "start_time, n, a = load()\n",
    "print(start_time, n, a)"
   ]
  },
  {
   "cell_type": "code",
   "execution_count": 20,
   "metadata": {},
   "outputs": [],
   "source": [
    "def search(start_time, n, a):\n",
    "    d={}\n",
    "    for i in range(n):\n",
    "        min= 0\n",
    "        num_server=0\n",
    "        d[a[i][0]]=[num_server, min]\n",
    "    t=20\n",
    "    tem={}\n",
    "    for i in range(n):\n",
    "        tem[a[i][0]]={}\n",
    "\n",
    "    for i in range(n):\n",
    "        if a[i][3]==\"PONG\":\n",
    "            continue\n",
    "\n",
    "        if a[i][3]==\"ACCESSED\" and a[i][2] in tem[a[i][0]]:\n",
    "            for j in tem[a[i][0]]:\n",
    "                if j==a[i][2]:\n",
    "                    extra=0\n",
    "                    if a[i][1]<start_time:\n",
    "                        extra = 1440\n",
    "                    d[a[i][0]][1]= int(a[i][1] - start_time + extra)+tem[a[i][0]][j]*t\n",
    "                    d[a[i][0]][0] += 1           \n",
    "                \n",
    "        if a[i][3]==\"ACCESSED\" and a[i][2] not in tem[a[i][0]]:\n",
    "            extra=0\n",
    "            if a[i][1]<start_time:\n",
    "                extra = 1440\n",
    "            d[a[i][0]][1]= int(a[i][1] - start_time + extra)\n",
    "            d[a[i][0]][0] += 1\n",
    "\n",
    "        if a[i][3]==\"FORBIDEN\" or a[i][3]==\"DENIED\" :\n",
    "            tem[a[i][0]][a[i][2]] = 1\n",
    "\n",
    "    final=[]\n",
    "    for key, value in d.items():\n",
    "        if value[0]>0:\n",
    "            final.append((value[0], value[1], key))\n",
    "    final_sort = sorted(final)    \n",
    "\n",
    "    return final_sort\n",
    "        \n",
    "    \n",
    "\n"
   ]
  },
  {
   "cell_type": "code",
   "execution_count": 21,
   "metadata": {},
   "outputs": [
    {
     "name": "stdout",
     "output_type": "stream",
     "text": [
      "1 \"T2\" 1 11\n"
     ]
    }
   ],
   "source": [
    "final = search(start_time, n, a)\n",
    "\n",
    "n=len(final)\n",
    "for i in range(n):\n",
    "    curr_ser = final[0][0]\n",
    "    curr_time = final[0][1]\n",
    "    curr_place = 1\n",
    "    if curr_ser == final[i][0] and curr_time == final[i][1]:\n",
    "        place = curr_place\n",
    "    else:\n",
    "        place = i + 1\n",
    "        curr_place = place\n",
    "        curr_ser = final[i][0]\n",
    "        curr_time = final[i][1]\n",
    "\n",
    "    print(place, final[i][2], final[i][0], final[i][1])\n",
    "     \n",
    "    \n",
    "\n"
   ]
  },
  {
   "cell_type": "markdown",
   "metadata": {},
   "source": [
    "add datetime"
   ]
  },
  {
   "cell_type": "code",
   "execution_count": 2,
   "metadata": {},
   "outputs": [
    {
     "name": "stdout",
     "output_type": "stream",
     "text": [
      "1900-01-01 23:00:00\n"
     ]
    },
    {
     "ename": "ValueError",
     "evalue": "invalid literal for int() with base 10: ''",
     "output_type": "error",
     "traceback": [
      "\u001b[1;31m---------------------------------------------------------------------------\u001b[0m",
      "\u001b[1;31mValueError\u001b[0m                                Traceback (most recent call last)",
      "Cell \u001b[1;32mIn[2], line 27\u001b[0m\n\u001b[0;32m     22\u001b[0m         a\u001b[38;5;241m.\u001b[39mappend((row[\u001b[38;5;241m0\u001b[39m], total_minutes, row[\u001b[38;5;241m2\u001b[39m], row[\u001b[38;5;241m3\u001b[39m]))\n\u001b[0;32m     24\u001b[0m     \u001b[38;5;28;01mreturn\u001b[39;00m start_time, n, a\n\u001b[1;32m---> 27\u001b[0m start_time, n, a \u001b[38;5;241m=\u001b[39m \u001b[43mload\u001b[49m\u001b[43m(\u001b[49m\u001b[43m)\u001b[49m\n\u001b[0;32m     28\u001b[0m \u001b[38;5;28mprint\u001b[39m(start_time, n, a)\n",
      "Cell \u001b[1;32mIn[2], line 10\u001b[0m, in \u001b[0;36mload\u001b[1;34m()\u001b[0m\n\u001b[0;32m      8\u001b[0m time_split \u001b[38;5;241m=\u001b[39m time\u001b[38;5;241m.\u001b[39msplit(\u001b[38;5;124m'\u001b[39m\u001b[38;5;124m:\u001b[39m\u001b[38;5;124m'\u001b[39m)\n\u001b[0;32m      9\u001b[0m start_time \u001b[38;5;241m=\u001b[39m \u001b[38;5;28mint\u001b[39m(time_split[\u001b[38;5;241m0\u001b[39m])\u001b[38;5;241m*\u001b[39m\u001b[38;5;241m60\u001b[39m\u001b[38;5;241m+\u001b[39m\u001b[38;5;28mint\u001b[39m(time_split[\u001b[38;5;241m1\u001b[39m])\u001b[38;5;241m*\u001b[39m\u001b[38;5;241m1\u001b[39m \u001b[38;5;241m+\u001b[39m\u001b[38;5;28mint\u001b[39m(time_split[\u001b[38;5;241m2\u001b[39m])\u001b[38;5;241m/\u001b[39m\u001b[38;5;241m60\u001b[39m\n\u001b[1;32m---> 10\u001b[0m n \u001b[38;5;241m=\u001b[39m \u001b[38;5;28;43mint\u001b[39;49m\u001b[43m(\u001b[49m\u001b[38;5;28;43minput\u001b[39;49m\u001b[43m(\u001b[49m\u001b[43m)\u001b[49m\u001b[43m)\u001b[49m\n\u001b[0;32m     11\u001b[0m a\u001b[38;5;241m=\u001b[39m[]\n\u001b[0;32m     13\u001b[0m \u001b[38;5;28;01mfor\u001b[39;00m i \u001b[38;5;129;01min\u001b[39;00m \u001b[38;5;28mrange\u001b[39m(n):\n",
      "\u001b[1;31mValueError\u001b[0m: invalid literal for int() with base 10: ''"
     ]
    },
    {
     "ename": "",
     "evalue": "",
     "output_type": "error",
     "traceback": [
      "\u001b[1;31mThe Kernel crashed while executing code in the current cell or a previous cell. \n",
      "\u001b[1;31mPlease review the code in the cell(s) to identify a possible cause of the failure. \n",
      "\u001b[1;31mClick <a href='https://aka.ms/vscodeJupyterKernelCrash'>here</a> for more info. \n",
      "\u001b[1;31mView Jupyter <a href='command:jupyter.viewOutput'>log</a> for further details."
     ]
    }
   ],
   "source": [
    "#from datetime import datetime, time\n",
    "#def load():\n",
    "#    \n",
    "#    time = (input())\n",
    "#    startTime=datetime.strptime(time, \"%H:%M:%S\" )\n",
    "#    print(startTime)\n",
    "#    exit()\n",
    "#    time_split = time.split(':')\n",
    "#    start_time = int(time_split[0])*60+int(time_split[1])*1 +int(time_split[2])/60\n",
    "#    n = int(input())\n",
    "#    a=[]\n",
    "#    \n",
    "#    for i in range(n):\n",
    "#        row = list(input().split(' '))\n",
    "#        input_time=row[1]\n",
    "#        t=input_time.split(':')\n",
    "#        \n",
    "#\n",
    "#\n",
    "#        total_minutes= int(t[0])*60+int(t[1])*1 +int(t[2])/60\n",
    "#        \n",
    "#        a.append((row[0], total_minutes, row[2], row[3]))\n",
    "#\n",
    "#    return start_time, n, a\n",
    "#\n",
    "#\n",
    "#start_time, n, a = load()\n",
    "#print(start_time, n, a)"
   ]
  },
  {
   "cell_type": "code",
   "execution_count": 260,
   "metadata": {},
   "outputs": [],
   "source": [
    "# last version\n",
    "def search(start_time, n, a):\n",
    "    d={}\n",
    "    for i in range(n):\n",
    "        min= 0\n",
    "        num_server=0\n",
    "        d[a[i][0]]=[num_server, min]\n",
    "    t=20\n",
    "    tem={}\n",
    "    for i in range(n):\n",
    "        \n",
    "        tem[a[i][0]]={}\n",
    "    #print(tem)\n",
    "    for i in range(n):\n",
    "        if a[i][3]==\"PONG\":\n",
    "            continue\n",
    "        if a[i][3]==\"ACCESSED\" and a[i][2] in tem[a[i][0]]:\n",
    "            #print('yes')\n",
    "            #check\n",
    "            for j in tem[a[i][0]]:\n",
    "                \n",
    "                if j==a[i][2]:\n",
    "                    #print(j)\n",
    "                    #print(tem[a[i][0]][j])\n",
    "                    d[a[i][0]][1]= int(a[i][1] - start_time)+tem[a[i][0]][j]*t\n",
    "                    d[a[i][0]][0] += 1\n",
    "                    \n",
    "\n",
    "                \n",
    "\n",
    "                    \n",
    "                \n",
    "        if a[i][3]==\"ACCESSED\" and a[i][2] not in tem[a[i][0]]:\n",
    "            #print('no')\n",
    "            d[a[i][0]][1]= int(a[i][1] - start_time)\n",
    "            d[a[i][0]][0] += 1\n",
    "        if a[i][3]==\"FORBIDEN\" or a[i][3]==\"DENIED\" :\n",
    "            #print(a[i][2])\n",
    "            tem[a[i][0]][a[i][2]] = 1\n",
    "            #tem[a[i][0]][0]+=1\n",
    "            #tem[a[i][0]][1].append(a[i][2])\n",
    "    final=[]\n",
    "    for key, value in d.items():\n",
    "        final.append((value[0], value[1], key))\n",
    "    final_sort = sorted(final)    \n",
    "    #print('final_sort',final_sort)\n",
    "\n",
    "    return final_sort\n",
    "        \n",
    "    \n"
   ]
  },
  {
   "cell_type": "code",
   "execution_count": 261,
   "metadata": {},
   "outputs": [
    {
     "name": "stdout",
     "output_type": "stream",
     "text": [
      "A\n",
      "A\n",
      "yes\n",
      "A\n",
      "1\n",
      "yes\n",
      "A\n",
      "1\n",
      "no\n",
      "{'\"VK\"': [50, 'A'], '\"T\"': [40, 'A'], '\"YA\"': [40, 'B']}\n",
      "{'\"VK\"': {'A': 1}, '\"T\"': {'A': 1}, '\"YA\"': {}}\n"
     ]
    }
   ],
   "source": [
    "search(start_time, n, a)\n"
   ]
  }
 ],
 "metadata": {
  "kernelspec": {
   "display_name": "mltest",
   "language": "python",
   "name": "python3"
  },
  "language_info": {
   "codemirror_mode": {
    "name": "ipython",
    "version": 3
   },
   "file_extension": ".py",
   "mimetype": "text/x-python",
   "name": "python",
   "nbconvert_exporter": "python",
   "pygments_lexer": "ipython3",
   "version": "3.12.3"
  }
 },
 "nbformat": 4,
 "nbformat_minor": 2
}
