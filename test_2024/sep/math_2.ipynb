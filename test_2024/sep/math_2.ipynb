{
 "cells": [
  {
   "cell_type": "code",
   "execution_count": 26,
   "metadata": {},
   "outputs": [],
   "source": [
    "a=[1,2,4,8,16,32,64,128]\n",
    "arr=set()"
   ]
  },
  {
   "cell_type": "code",
   "execution_count": 30,
   "metadata": {},
   "outputs": [
    {
     "name": "stdout",
     "output_type": "stream",
     "text": [
      "177\n",
      "{frozenset({8, 2}), frozenset({128, 16, 4}), frozenset({8, 64, 128}), frozenset({8, 2, 4}), frozenset({64, 16, 2}), frozenset({8, 16, 32}), frozenset({16, 32, 128}), frozenset({8, 16, 128}), frozenset({32, 1, 128}), frozenset({64, 4, 128}), frozenset({16, 1}), frozenset({64, 2, 128}), frozenset({64, 1, 16}), frozenset({32, 16, 4}), frozenset({8, 32, 128}), frozenset({64, 1, 4}), frozenset({16, 64}), frozenset({16, 128}), frozenset({16, 64, 128}), frozenset({128, 8, 4}), frozenset({64, 1, 128}), frozenset({128, 32, 4}), frozenset({64, 1, 8}), frozenset({32, 8, 4}), frozenset({16, 2}), frozenset({128, 2, 32}), frozenset({32, 8, 2}), frozenset({128, 2}), frozenset({32, 2}), frozenset({16, 8, 4}), frozenset({32, 16, 2}), frozenset({128, 2, 4}), frozenset({128, 16, 2}), frozenset({64, 1, 2}), frozenset({32, 2, 4}), frozenset({64, 1}), frozenset({32, 4}), frozenset({128, 8, 2}), frozenset({8, 128}), frozenset({32, 128}), frozenset({8, 32}), frozenset({64, 2}), frozenset({16, 1, 8}), frozenset({32, 1, 4}), frozenset({128, 1, 16}), frozenset({128, 4}), frozenset({32, 1}), frozenset({64, 4}), frozenset({128, 1, 8}), frozenset({8, 16, 64}), frozenset({64, 32, 4}), frozenset({16, 32, 64}), frozenset({16, 1, 4}), frozenset({32, 1, 8}), frozenset({64, 8, 4}), frozenset({1, 4}), frozenset({8, 64}), frozenset({16, 4}), frozenset({64, 8, 2}), frozenset({16, 2, 4}), frozenset({128, 1, 4}), frozenset({16, 1, 32}), frozenset({8, 1, 4}), frozenset({64, 16, 4}), frozenset({8, 32, 64}), frozenset({32, 64, 128}), frozenset({128, 1}), frozenset({8, 1}), frozenset({128, 1, 2}), frozenset({8, 1, 2}), frozenset({32, 1, 2}), frozenset({64, 2, 4}), frozenset({16, 8, 2}), frozenset({32, 1, 64}), frozenset({1, 2, 4}), frozenset({32, 2, 64}), frozenset({16, 1, 2})}\n",
      "77\n"
     ]
    }
   ],
   "source": [
    "count=0\n",
    "for i in a:\n",
    "    for j in a:\n",
    "        for k in a:\n",
    "            if j**2-4*i*k>0:\n",
    "                \n",
    "                arr.add(frozenset((i,j,k)))\n",
    "                count+=1\n",
    "print(count)\n",
    "print(arr)\n",
    "print(len(arr))\n",
    "\n",
    "\n",
    "    "
   ]
  },
  {
   "cell_type": "code",
   "execution_count": 32,
   "metadata": {},
   "outputs": [
    {
     "name": "stdout",
     "output_type": "stream",
     "text": [
      "99\n",
      "[(1, 4, 1), (1, 8, 1), (1, 16, 1), (1, 32, 1), (1, 64, 1), (1, 128, 1), (2, 4, 1), (2, 8, 1), (2, 8, 2), (2, 16, 1), (2, 16, 2), (2, 32, 1), (2, 32, 2), (2, 64, 1), (2, 64, 2), (2, 128, 1), (2, 128, 2), (4, 8, 1), (4, 8, 2), (4, 16, 1), (4, 16, 2), (4, 16, 4), (4, 32, 1), (4, 32, 2), (4, 32, 4), (4, 64, 1), (4, 64, 2), (4, 64, 4), (4, 128, 1), (4, 128, 2), (4, 128, 4), (8, 8, 1), (8, 16, 1), (8, 16, 2), (8, 16, 4), (8, 32, 1), (8, 32, 2), (8, 32, 4), (8, 32, 8), (8, 64, 1), (8, 64, 2), (8, 64, 4), (8, 64, 8), (8, 128, 1), (8, 128, 2), (8, 128, 4), (8, 128, 8), (16, 16, 1), (16, 16, 2), (16, 32, 1), (16, 32, 2), (16, 32, 4), (16, 32, 8), (16, 64, 1), (16, 64, 2), (16, 64, 4), (16, 64, 8), (16, 64, 16), (16, 128, 1), (16, 128, 2), (16, 128, 4), (16, 128, 8), (16, 128, 16), (32, 16, 1), (32, 32, 1), (32, 32, 2), (32, 32, 4), (32, 64, 1), (32, 64, 2), (32, 64, 4), (32, 64, 8), (32, 64, 16), (32, 128, 1), (32, 128, 2), (32, 128, 4), (32, 128, 8), (32, 128, 16), (32, 128, 32), (64, 32, 1), (64, 32, 2), (64, 64, 1), (64, 64, 2), (64, 64, 4), (64, 64, 8), (64, 128, 1), (64, 128, 2), (64, 128, 4), (64, 128, 8), (64, 128, 16), (64, 128, 32), (128, 32, 1), (128, 64, 1), (128, 64, 2), (128, 64, 4), (128, 128, 1), (128, 128, 2), (128, 128, 4), (128, 128, 8), (128, 128, 16)]\n",
      "99\n"
     ]
    }
   ],
   "source": [
    "a=[1,2,4,8,16,32,64,128]\n",
    "arr=[]\n",
    "count=0\n",
    "for i in a:\n",
    "    for j in a:\n",
    "        for k in a:\n",
    "            if j**2-4*i*k>0:\n",
    "                if i>=k:\n",
    "                    arr.append((i,j,k))\n",
    "                    count+=1\n",
    "print(count)\n",
    "print(arr)\n",
    "print(len(arr))"
   ]
  }
 ],
 "metadata": {
  "kernelspec": {
   "display_name": "mltest",
   "language": "python",
   "name": "python3"
  },
  "language_info": {
   "codemirror_mode": {
    "name": "ipython",
    "version": 3
   },
   "file_extension": ".py",
   "mimetype": "text/x-python",
   "name": "python",
   "nbconvert_exporter": "python",
   "pygments_lexer": "ipython3",
   "version": "3.12.3"
  }
 },
 "nbformat": 4,
 "nbformat_minor": 2
}
