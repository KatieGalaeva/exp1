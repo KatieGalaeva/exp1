{
 "cells": [
  {
   "cell_type": "markdown",
   "metadata": {},
   "source": [
    "#1-6,8-9,11"
   ]
  },
  {
   "cell_type": "code",
   "execution_count": 2,
   "metadata": {},
   "outputs": [
    {
     "name": "stdout",
     "output_type": "stream",
     "text": [
      "1 2 3 4 5 6 7 8 9 10 11 14 16 17 \n"
     ]
    }
   ],
   "source": [
    "def load_slice():\n",
    "    n=list(input().split(','))\n",
    "    \n",
    "\n",
    "    return n\n",
    "\n",
    "def print_arr(slice: list[str]):\n",
    "    for slice_part in slice:\n",
    "        slice_split = slice_part.split('-')\n",
    "\n",
    "        if len(slice_split) > 1:\n",
    "            first = int(slice_split[0])\n",
    "            second = int(slice_split[1])\n",
    "            for i in range(first, second + 1):\n",
    "                print(i, end=' ')\n",
    "        else:\n",
    "            print(int(slice_split[0]), end=' ')\n",
    "            \n",
    "    print()\n",
    "\n",
    "slice = load_slice()\n",
    "print_arr(slice)"
   ]
  },
  {
   "cell_type": "code",
   "execution_count": 3,
   "metadata": {},
   "outputs": [
    {
     "name": "stdout",
     "output_type": "stream",
     "text": [
      "['1-11', '14', '16-17']\n"
     ]
    }
   ],
   "source": [
    "print(slice)"
   ]
  }
 ],
 "metadata": {
  "kernelspec": {
   "display_name": "mltest",
   "language": "python",
   "name": "python3"
  },
  "language_info": {
   "codemirror_mode": {
    "name": "ipython",
    "version": 3
   },
   "file_extension": ".py",
   "mimetype": "text/x-python",
   "name": "python",
   "nbconvert_exporter": "python",
   "pygments_lexer": "ipython3",
   "version": "3.12.3"
  }
 },
 "nbformat": 4,
 "nbformat_minor": 2
}
