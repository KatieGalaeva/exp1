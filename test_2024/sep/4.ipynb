{
 "cells": [
  {
   "cell_type": "code",
   "execution_count": 16,
   "metadata": {},
   "outputs": [
    {
     "name": "stdout",
     "output_type": "stream",
     "text": [
      "0\n"
     ]
    }
   ],
   "source": [
    "\n",
    "    \n",
    "def prime_number(a):\n",
    "    if a<=1:\n",
    "        return False\n",
    "    \n",
    "    for i in range(2, (a//2)+1):\n",
    "        if a % i == 0:\n",
    "            return False\n",
    "\n",
    "    return True\n",
    "        \n",
    "def number_of_divisor(a):\n",
    "    count=1\n",
    "    for i in range(1, a//2 + 1):\n",
    "        if a % i == 0:\n",
    "            count+=1\n",
    "\n",
    "    return count\n",
    "\n",
    "def count(start,stop):\n",
    "    list_of_composite=[]\n",
    "    count=0\n",
    "    for i in range(start, stop+1):\n",
    "        if prime_number(i)==False:\n",
    "            list_of_composite.append(i)\n",
    "\n",
    "    for i in list_of_composite:\n",
    "        number_divisor = number_of_divisor(i)\n",
    "        if prime_number(number_divisor)==True:\n",
    "            count+=1\n",
    "    return count\n",
    "\n",
    "def load_interval():\n",
    "    start,stop= map(int, input().split())\n",
    "    return start,stop\n",
    "\n",
    "start,stop = load_interval()\n",
    "print(count(start,stop))"
   ]
  }
 ],
 "metadata": {
  "kernelspec": {
   "display_name": "mltest",
   "language": "python",
   "name": "python3"
  },
  "language_info": {
   "codemirror_mode": {
    "name": "ipython",
    "version": 3
   },
   "file_extension": ".py",
   "mimetype": "text/x-python",
   "name": "python",
   "nbconvert_exporter": "python",
   "pygments_lexer": "ipython3",
   "version": "3.12.3"
  }
 },
 "nbformat": 4,
 "nbformat_minor": 2
}
