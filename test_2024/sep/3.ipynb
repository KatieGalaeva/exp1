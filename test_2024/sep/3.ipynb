{
 "cells": [
  {
   "cell_type": "markdown",
   "metadata": {},
   "source": [
    "abacaba\n",
    "abc\n",
    "4\n",
    "\n",
    "caba\n",
    "\n",
    "abacaba\n",
    "abc\n",
    "3\n",
    "\n",
    "cab"
   ]
  },
  {
   "cell_type": "code",
   "execution_count": 1,
   "metadata": {},
   "outputs": [
    {
     "name": "stdout",
     "output_type": "stream",
     "text": [
      "a\n"
     ]
    }
   ],
   "source": [
    "\n",
    "\n",
    "\n",
    "def load_data():\n",
    "    seq = list(input())\n",
    "    letter = list(input())\n",
    "    length_pas = int(input())\n",
    "\n",
    "    return seq, letter, length_pas\n",
    "\n",
    "def password(seq, letter, max_len):\n",
    "    d=set()\n",
    "    for i in letter:\n",
    "        d.add(i)\n",
    "\n",
    "    min_len = len(d)\n",
    "\n",
    "    for i in range(len(seq) - 1, min_len - 2, -1):\n",
    "        seen = set()\n",
    "        w_end = i - min_len\n",
    "        for j in range(i, w_end, -1):\n",
    "            seen.add(seq[j])\n",
    "\n",
    "        # print('min', i, w_end, seen, d)\n",
    "\n",
    "        j = w_end\n",
    "        while (j >= 0) and (i - j + 1 <= max_len) and (seq[j] in d):\n",
    "            seen.add(seq[j])\n",
    "            # print('add', i, j, w_end, seen, d)\n",
    "            j-=1\n",
    "           \n",
    "        if seen == d:\n",
    "            return ''.join(seq[j + 1: i + 1])\n",
    "\n",
    "    return -1\n",
    "\n",
    "\n",
    "seq, letter, length_pas = load_data()\n",
    "print(password(seq, letter, length_pas))\n",
    "\n"
   ]
  }
 ],
 "metadata": {
  "kernelspec": {
   "display_name": "mltest",
   "language": "python",
   "name": "python3"
  },
  "language_info": {
   "codemirror_mode": {
    "name": "ipython",
    "version": 3
   },
   "file_extension": ".py",
   "mimetype": "text/x-python",
   "name": "python",
   "nbconvert_exporter": "python",
   "pygments_lexer": "ipython3",
   "version": "3.12.3"
  }
 },
 "nbformat": 4,
 "nbformat_minor": 2
}
