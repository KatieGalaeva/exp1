{
 "cells": [
  {
   "cell_type": "code",
   "execution_count": 4,
   "metadata": {},
   "outputs": [
    {
     "name": "stdout",
     "output_type": "stream",
     "text": [
      "[[4, 1, 0], [3, 0, 1], [0, 0, 0]]\n",
      "4\n",
      "0 2 2 0\n",
      "1 2 2 1\n",
      "0 0 0 2\n",
      "1 0 1 2\n"
     ]
    }
   ],
   "source": [
    "def rotate(matrix, direction):\n",
    "    n = len(matrix)\n",
    "    swaps = []\n",
    "    for i in range(n):\n",
    "        for j in range(i + 1, n):\n",
    "            if matrix[i][j] != matrix[j][i]:\n",
    "                swaps.append((i, j, j, i))\n",
    "                matrix[i][j], matrix[j][i] = matrix[j][i], matrix[i][j]\n",
    "\n",
    "    for i in range(n):\n",
    "        for j in range(n//2):\n",
    "            y1, x1, y2, x2 = (i, j, i, n - j - 1) if direction == 'R' else (j, i, n - j - 1, i)\n",
    "            if matrix[y1][x1] != matrix[y2][x2]:\n",
    "                swaps.append((y1, x1, y2, x2))\n",
    "                matrix[y1][x1], matrix[y2][x2] = matrix[y2][x2], matrix[y1][x1]\n",
    "                \n",
    "    return matrix, swaps\n",
    "    \n",
    "n, direction = (input().split())\n",
    "n=int(n)\n",
    "direction=str(direction)\n",
    "matrix=[]\n",
    "count=0\n",
    "s=[]\n",
    "\n",
    "for i in range(n):\n",
    "    row=list(input().split())\n",
    "    introw=[int(el) for el in row]\n",
    "    matrix.append(introw)\n",
    "\n",
    "new_mat, swaps = rotate(matrix, direction)\n",
    "#print(new_mat)\n",
    "print(len(swaps))\n",
    "for sw in swaps:\n",
    "    print(sw[0], sw[1], sw[2], sw[3])"
   ]
  }
 ],
 "metadata": {
  "kernelspec": {
   "display_name": "mltest",
   "language": "python",
   "name": "python3"
  },
  "language_info": {
   "codemirror_mode": {
    "name": "ipython",
    "version": 3
   },
   "file_extension": ".py",
   "mimetype": "text/x-python",
   "name": "python",
   "nbconvert_exporter": "python",
   "pygments_lexer": "ipython3",
   "version": "3.12.3"
  }
 },
 "nbformat": 4,
 "nbformat_minor": 2
}
